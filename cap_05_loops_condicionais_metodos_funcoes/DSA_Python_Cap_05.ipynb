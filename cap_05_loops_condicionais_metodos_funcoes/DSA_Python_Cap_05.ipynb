{
 "cells": [
  {
   "cell_type": "markdown",
   "id": "97d671ef",
   "metadata": {},
   "source": [
    "### Condicionais"
   ]
  },
  {
   "cell_type": "code",
   "execution_count": 1,
   "id": "9eb4b234",
   "metadata": {},
   "outputs": [
    {
     "name": "stdout",
     "output_type": "stream",
     "text": [
      "A sentença é verdadeira!\n"
     ]
    }
   ],
   "source": [
    "# Condicional if\n",
    "\n",
    "if 5 > 2:\n",
    "    print('A sentença é verdadeira!')\n"
   ]
  },
  {
   "cell_type": "code",
   "execution_count": 2,
   "id": "30848732",
   "metadata": {},
   "outputs": [
    {
     "name": "stdout",
     "output_type": "stream",
     "text": [
      "A sentença é falsa!\n"
     ]
    }
   ],
   "source": [
    "# Condicional if...else\n",
    "\n",
    "if 5 < 2:\n",
    "    print('A sentença é verdadeira!')\n",
    "else:\n",
    "    print('A sentença é falsa!')"
   ]
  },
  {
   "cell_type": "code",
   "execution_count": 3,
   "id": "66ac77f1",
   "metadata": {},
   "outputs": [
    {
     "name": "stdout",
     "output_type": "stream",
     "text": [
      "Hoje vai chover\n"
     ]
    }
   ],
   "source": [
    "# Condicional if ... else com variável\n",
    "\n",
    "dia = 'terca'\n",
    " \n",
    "if dia == 'segunda':\n",
    "    print('Fará sol!')\n",
    "else:\n",
    "    print('Hoje vai chover')"
   ]
  },
  {
   "cell_type": "code",
   "execution_count": 4,
   "id": "206356ba",
   "metadata": {},
   "outputs": [
    {
     "name": "stdout",
     "output_type": "stream",
     "text": [
      "Vai chover!\n"
     ]
    }
   ],
   "source": [
    "# Podemos usar o operador elif para validar mais de uma condição\n",
    "\n",
    "if dia == 'segunda':\n",
    "    print('Fará sol!')\n",
    "elif dia == 'terca':\n",
    "    print('Vai chover!')\n",
    "else:\n",
    "    print('Sem previsão do tempo para o dia relacionado')"
   ]
  },
  {
   "cell_type": "markdown",
   "id": "d2a494a3",
   "metadata": {},
   "source": [
    "### Operadores Relacionais"
   ]
  },
  {
   "cell_type": "code",
   "execution_count": 5,
   "id": "ef8313b5",
   "metadata": {},
   "outputs": [
    {
     "data": {
      "text/plain": [
       "True"
      ]
     },
     "execution_count": 5,
     "metadata": {},
     "output_type": "execute_result"
    }
   ],
   "source": [
    "6 > 3"
   ]
  },
  {
   "cell_type": "code",
   "execution_count": 6,
   "id": "43fc3fce",
   "metadata": {},
   "outputs": [
    {
     "data": {
      "text/plain": [
       "False"
      ]
     },
     "execution_count": 6,
     "metadata": {},
     "output_type": "execute_result"
    }
   ],
   "source": [
    "3 > 7 "
   ]
  },
  {
   "cell_type": "code",
   "execution_count": 7,
   "id": "af151ad8",
   "metadata": {},
   "outputs": [
    {
     "data": {
      "text/plain": [
       "True"
      ]
     },
     "execution_count": 7,
     "metadata": {},
     "output_type": "execute_result"
    }
   ],
   "source": [
    "4 < 8"
   ]
  },
  {
   "cell_type": "code",
   "execution_count": 8,
   "id": "b4727c81",
   "metadata": {},
   "outputs": [
    {
     "data": {
      "text/plain": [
       "True"
      ]
     },
     "execution_count": 8,
     "metadata": {},
     "output_type": "execute_result"
    }
   ],
   "source": [
    "4 >= 4"
   ]
  },
  {
   "cell_type": "code",
   "execution_count": 9,
   "id": "0b9a3125",
   "metadata": {},
   "outputs": [
    {
     "name": "stdout",
     "output_type": "stream",
     "text": [
      "Testando Python\n"
     ]
    }
   ],
   "source": [
    "if 5 == 5:\n",
    "    print('Testando Python')"
   ]
  },
  {
   "cell_type": "code",
   "execution_count": 10,
   "id": "d43eac2d",
   "metadata": {},
   "outputs": [
    {
     "name": "stdout",
     "output_type": "stream",
     "text": [
      "Parece que python funciona!\n"
     ]
    }
   ],
   "source": [
    "if True:\n",
    "    print('Parece que python funciona!')"
   ]
  },
  {
   "cell_type": "code",
   "execution_count": 12,
   "id": "2941ac24",
   "metadata": {},
   "outputs": [
    {
     "ename": "SyntaxError",
     "evalue": "expected ':' (4037360433.py, line 3)",
     "output_type": "error",
     "traceback": [
      "  \u001b[36mCell\u001b[39m\u001b[36m \u001b[39m\u001b[32mIn[12]\u001b[39m\u001b[32m, line 3\u001b[39m\n\u001b[31m    \u001b[39m\u001b[31mif 4 > 3\u001b[39m\n            ^\n\u001b[31mSyntaxError\u001b[39m\u001b[31m:\u001b[39m expected ':'\n"
     ]
    }
   ],
   "source": [
    "# Atenção com a sintaxe\n",
    "\n",
    "if 4 > 3\n",
    "    print('Tudo funciona')"
   ]
  },
  {
   "cell_type": "code",
   "execution_count": 14,
   "id": "94ed2e53",
   "metadata": {},
   "outputs": [
    {
     "ename": "IndentationError",
     "evalue": "expected an indented block after 'if' statement on line 3 (2271111588.py, line 4)",
     "output_type": "error",
     "traceback": [
      "  \u001b[36mCell\u001b[39m\u001b[36m \u001b[39m\u001b[32mIn[14]\u001b[39m\u001b[32m, line 4\u001b[39m\n\u001b[31m    \u001b[39m\u001b[31mprint('Tudo funciona')\u001b[39m\n    ^\n\u001b[31mIndentationError\u001b[39m\u001b[31m:\u001b[39m expected an indented block after 'if' statement on line 3\n"
     ]
    }
   ],
   "source": [
    "# Atenção com a sintaxe\n",
    "\n",
    "if 4 > 3:\n",
    "print('Tudo funciona')"
   ]
  },
  {
   "cell_type": "markdown",
   "id": "1ee4c40f",
   "metadata": {},
   "source": [
    "### Condicionais Aninhadas"
   ]
  },
  {
   "cell_type": "code",
   "execution_count": null,
   "id": "1f895dfc",
   "metadata": {},
   "outputs": [
    {
     "name": "stdout",
     "output_type": "stream",
     "text": [
      "Você pode dirigir\n"
     ]
    }
   ],
   "source": [
    "idade = 18\n",
    "\n",
    "if idade > 17:\n",
    "    print('Você pode dirigir')"
   ]
  },
  {
   "cell_type": "code",
   "execution_count": 2,
   "id": "1e07ece1",
   "metadata": {},
   "outputs": [
    {
     "name": "stdout",
     "output_type": "stream",
     "text": [
      "Ok Bob, você está autorizado a entrar!\n"
     ]
    }
   ],
   "source": [
    "nome = 'Bob'\n",
    "\n",
    "if idade > 13:\n",
    "    if nome == 'Bob':\n",
    "        print('Ok Bob, você está autorizado a entrar!')\n",
    "    else:\n",
    "        print('Desculpe, mas você não pode entrar!')"
   ]
  },
  {
   "cell_type": "code",
   "execution_count": 6,
   "id": "587c0456",
   "metadata": {},
   "outputs": [
    {
     "name": "stdout",
     "output_type": "stream",
     "text": [
      "Ok bob, você está autorizado a entrar!\n"
     ]
    }
   ],
   "source": [
    "idade = 13\n",
    "nome = 'Bob'\n",
    "\n",
    "if idade >= 13 and nome.upper() == 'BOB':\n",
    "    print(\"Ok bob, você está autorizado a entrar!\")"
   ]
  },
  {
   "cell_type": "code",
   "execution_count": 7,
   "id": "ac131d0e",
   "metadata": {},
   "outputs": [
    {
     "name": "stdout",
     "output_type": "stream",
     "text": [
      "OK Bob, você está autorizado a entrar!\n"
     ]
    }
   ],
   "source": [
    "idade = 12\n",
    "nome = 'Bob'\n",
    "\n",
    "if (idade >= 13) or (nome.lower() == 'bob'):\n",
    "    print('OK Bob, você está autorizado a entrar!')"
   ]
  },
  {
   "cell_type": "markdown",
   "id": "71680cd0",
   "metadata": {},
   "source": [
    "### Operadores Lógicos"
   ]
  },
  {
   "cell_type": "code",
   "execution_count": 8,
   "id": "7c59a824",
   "metadata": {},
   "outputs": [
    {
     "name": "stdout",
     "output_type": "stream",
     "text": [
      "Você pode dirigir!\n"
     ]
    }
   ],
   "source": [
    "idade = 18\n",
    "nome = 'Bob'\n",
    "\n",
    "if (idade > 17):\n",
    "    print('Você pode dirigir!')"
   ]
  },
  {
   "cell_type": "code",
   "execution_count": 9,
   "id": "9fd4f2dd",
   "metadata": {},
   "outputs": [
    {
     "name": "stdout",
     "output_type": "stream",
     "text": [
      "Automatizado!\n"
     ]
    }
   ],
   "source": [
    "idade = 18\n",
    "\n",
    "if (idade > 17) and (nome == 'Bob'):\n",
    "    print('Automatizado!')"
   ]
  },
  {
   "cell_type": "markdown",
   "id": "81217eeb",
   "metadata": {},
   "source": [
    "<b>Os operadores lógicos funcionam assim:</b>\n",
    "\n",
    "Operador <b>\"and\"</b> -> Retorna True se ambas as declarações forem verdadeiras.\n",
    "\n",
    "Operador <b>\"or\"</b> ->  Retorna True se uma das declarações for verdadeira.\n",
    "\n",
    "Operador <b>\"not\"</b> -> Inverte o resultado, retorna False se o resultdo for Tue\n"
   ]
  },
  {
   "cell_type": "code",
   "execution_count": 10,
   "id": "7b32fd6f",
   "metadata": {},
   "outputs": [
    {
     "name": "stdout",
     "output_type": "stream",
     "text": [
      "Isso está sendo impresso porque as duas condições são verdadeiras!\n"
     ]
    }
   ],
   "source": [
    "# Operador and\n",
    "\n",
    "numero = 4\n",
    "\n",
    "if (numero > 2) and (numero % 2 == 0):\n",
    "    print('Isso está sendo impresso porque as duas condições são verdadeiras!')"
   ]
  },
  {
   "cell_type": "code",
   "execution_count": 12,
   "id": "6afcef9c",
   "metadata": {},
   "outputs": [
    {
     "name": "stdout",
     "output_type": "stream",
     "text": [
      "Isso está sendo impresso porque uma das duas codições é falsa\n"
     ]
    }
   ],
   "source": [
    "# Operador and\n",
    "\n",
    "numero = 4\n",
    "\n",
    "if (numero > 5) and (numero % 2 == 0):\n",
    "    print('Isso está sendo impresso porque as duas condições são verdadeiras!')\n",
    "else:\n",
    "    print('Isso está sendo impresso porque uma das duas codições é falsa')"
   ]
  },
  {
   "cell_type": "code",
   "execution_count": 13,
   "id": "3138c2ee",
   "metadata": {},
   "outputs": [
    {
     "name": "stdout",
     "output_type": "stream",
     "text": [
      "Isso está sendo impresso porque uma das duas condições é verdadeira!\n"
     ]
    }
   ],
   "source": [
    "# Operador or\n",
    "\n",
    "numero = 4\n",
    "\n",
    "if (numero > 5) or (numero % 2 == 0):\n",
    "    print('Isso está sendo impresso porque uma das duas condições é verdadeira!')"
   ]
  },
  {
   "cell_type": "code",
   "execution_count": 14,
   "id": "cd82045e",
   "metadata": {},
   "outputs": [
    {
     "name": "stdout",
     "output_type": "stream",
     "text": [
      "Isso está sendo impresso porque as duas condições são verdadeiras\"\n"
     ]
    }
   ],
   "source": [
    "# Operador not\n",
    "\n",
    "numero = 4\n",
    "\n",
    "if not(numero > 5) and (numero % 2 == 0):\n",
    "    print('Isso está sendo impresso porque as duas condições são verdadeiras\"')\n",
    "else:\n",
    "    print('Isso está sendo impresso porque uma das duas condições é falsa!')"
   ]
  },
  {
   "cell_type": "code",
   "execution_count": 15,
   "id": "f40ce96c",
   "metadata": {},
   "outputs": [
    {
     "name": "stdout",
     "output_type": "stream",
     "text": [
      "Isso está sendo impresso porque as duas primeiras condições são verdadeiras ou a terceira é verdadeira\n"
     ]
    }
   ],
   "source": [
    "# Operadores and, or e not\n",
    "\n",
    "numero = 4\n",
    "\n",
    "if (not(numero > 5) and (numero % 2 == 0)) or (numero == 4):\n",
    "    print('Isso está sendo impresso porque as duas primeiras condições são verdadeiras ou a terceira é verdadeira')"
   ]
  },
  {
   "cell_type": "code",
   "execution_count": 16,
   "id": "2fb0ea79",
   "metadata": {},
   "outputs": [
    {
     "name": "stdout",
     "output_type": "stream",
     "text": [
      "Você foi aprovado\n"
     ]
    }
   ],
   "source": [
    "# Exemplo com o uso de variáveis\n",
    "\n",
    "disciplina = 'Data Science'\n",
    "nota_final = 70\n",
    "\n",
    "if (disciplina.lower() == 'data science') and (nota_final >= 70):\n",
    "    print('Você foi aprovado')\n",
    "else:\n",
    "    print('Lamento, acho que você precisa estudar mais!')"
   ]
  },
  {
   "cell_type": "code",
   "execution_count": 19,
   "id": "1a912d96",
   "metadata": {},
   "outputs": [
    {
     "name": "stdout",
     "output_type": "stream",
     "text": [
      "Lamento, acho que você precisa estudar mais\n"
     ]
    }
   ],
   "source": [
    "# Usando mais de uma condição na cláusula if\n",
    "\n",
    "disciplina = 'Data Science'\n",
    "nota_final = 60\n",
    "\n",
    "if (disciplina.lower() == 'data science') and (nota_final >= 70):\n",
    "    print('Você foi aprovado!')\n",
    "else:\n",
    "    print('Lamento, acho que você precisa estudar mais')"
   ]
  },
  {
   "cell_type": "code",
   "execution_count": 25,
   "id": "f4760118",
   "metadata": {},
   "outputs": [
    {
     "name": "stdout",
     "output_type": "stream",
     "text": [
      "Você foi aprovado em data science com a média de 90.0\n"
     ]
    }
   ],
   "source": [
    "# Usando mais de uma condição na cláusula if\n",
    "\n",
    "disciplina = str(input('Informe a disciplina.: ')).strip().lower()\n",
    "nota_final = float(input('Informe a nota final.: '))\n",
    "semestre = str(input('Informe qual semestre está cursando.:'))\n",
    "\n",
    "if (disciplina == 'data science') and (nota_final >= 80) and (semestre != 1):\n",
    "    print(f'Você foi aprovado em {disciplina} com a média de {nota_final}')\n",
    "else:\n",
    "    print('Lamento, acho que você precisa estudar mais!')"
   ]
  },
  {
   "cell_type": "markdown",
   "id": "d207a8c0",
   "metadata": {},
   "source": [
    "### Loop For"
   ]
  },
  {
   "cell_type": "code",
   "execution_count": 1,
   "id": "ae6322d3",
   "metadata": {},
   "outputs": [
    {
     "name": "stdout",
     "output_type": "stream",
     "text": [
      "2\n",
      "3\n",
      "4\n"
     ]
    }
   ],
   "source": [
    "# Criando uma tupla e imprimindo cada um dos valores\n",
    "\n",
    "tp = (2, 3, 4)\n",
    "\n",
    "for i in tp:\n",
    "    print(i)"
   ]
  },
  {
   "cell_type": "code",
   "execution_count": 2,
   "id": "63a04cdb",
   "metadata": {},
   "outputs": [
    {
     "name": "stdout",
     "output_type": "stream",
     "text": [
      "Data\n",
      "Science\n",
      "Academy\n"
     ]
    }
   ],
   "source": [
    "# Criando uma lista e imprimindo cada um dos valores\n",
    "\n",
    "lista_de_strings = ['Data', 'Science', 'Academy']\n",
    "\n",
    "for i in lista_de_strings:\n",
    "    print(i)"
   ]
  },
  {
   "cell_type": "code",
   "execution_count": 3,
   "id": "6fb3cefa",
   "metadata": {},
   "outputs": [
    {
     "name": "stdout",
     "output_type": "stream",
     "text": [
      "0\n",
      "1\n",
      "2\n",
      "3\n",
      "4\n"
     ]
    }
   ],
   "source": [
    "# Imprimindo os valores no intervalo entre 0 e 5 (exclusive)\n",
    "\n",
    "for contador in range(0, 5):\n",
    "    print(contador)"
   ]
  },
  {
   "cell_type": "code",
   "execution_count": 4,
   "id": "d196238f",
   "metadata": {},
   "outputs": [
    {
     "name": "stdout",
     "output_type": "stream",
     "text": [
      "2\n",
      "4\n",
      "6\n",
      "8\n",
      "10\n"
     ]
    }
   ],
   "source": [
    "# Imprimindo os valores pares da lista de numeros\n",
    "\n",
    "lista = [1, 2, 3, 4, 5, 6, 7, 8, 9, 10]\n",
    "\n",
    "for num in lista:\n",
    "    if (num % 2 == 0):\n",
    "        print(num)"
   ]
  },
  {
   "cell_type": "code",
   "execution_count": 7,
   "id": "52c40825",
   "metadata": {},
   "outputs": [
    {
     "name": "stdout",
     "output_type": "stream",
     "text": [
      "0-2-4-6-8-10-12-14-16-18-20-22-24-26-28-30-32-34-36-38-40-42-44-46-48-50-52-54-56-58-60-62-64-66-68-70-72-74-76-78-80-82-84-86-88-90-92-94-96-98-100-"
     ]
    }
   ],
   "source": [
    "# Listando os números no intervalo entre 0 e 101, com incremento em 2\n",
    "\n",
    "for i in range(0, 101, 2):\n",
    "    print(i, end='-')"
   ]
  },
  {
   "cell_type": "code",
   "execution_count": 8,
   "id": "427247d8",
   "metadata": {},
   "outputs": [
    {
     "name": "stdout",
     "output_type": "stream",
     "text": [
      "P y t h o n   é   u m a   l i n g u a g e m   d e   p r o g r a m a ç ã o   d i v e r t i d a "
     ]
    }
   ],
   "source": [
    "# String também são sequencias\n",
    "\n",
    "for caracter in 'Python é uma linguagem de programação divertida':\n",
    "    print(caracter, end=' ')"
   ]
  },
  {
   "cell_type": "code",
   "execution_count": null,
   "id": "026a40b0",
   "metadata": {},
   "outputs": [
    {
     "name": "stdout",
     "output_type": "stream",
     "text": [
      "nome\n",
      "idade\n",
      "profissao\n"
     ]
    }
   ],
   "source": [
    "# Dicionarios com loop for, imprimindo as chaves\n",
    "\n",
    "dict = {'nome': 'Marcos', 'idade': 45, 'profissao': 'Ciêntista de Dados'}\n",
    "\n",
    "for chave in dict:\n",
    "    print(chave)"
   ]
  },
  {
   "cell_type": "code",
   "execution_count": 14,
   "id": "ba826d0d",
   "metadata": {},
   "outputs": [
    {
     "name": "stdout",
     "output_type": "stream",
     "text": [
      "nome: Marcos\n",
      "idade: 45\n",
      "profissao: Ciêntista de Dados\n"
     ]
    }
   ],
   "source": [
    "# Percorrer as chaves e acessar os valores\n",
    "\n",
    "dict = {'nome': 'Marcos', 'idade': 45, 'profissao': 'Ciêntista de Dados'}\n",
    "\n",
    "for chave in dict:\n",
    "    print(f'{chave}: {dict[chave]}')"
   ]
  },
  {
   "cell_type": "code",
   "execution_count": 16,
   "id": "fe31eec8",
   "metadata": {},
   "outputs": [
    {
     "name": "stdout",
     "output_type": "stream",
     "text": [
      "nome -> Marcos\n",
      "idade -> 45\n",
      "profissao -> Ciêntista de Dados\n"
     ]
    }
   ],
   "source": [
    "#  Usar items() para pegar chave e valor ao mesmo tempo\n",
    "\n",
    "dict = {'nome': 'Marcos', 'idade': 45, 'profissao': 'Ciêntista de Dados'}\n",
    "\n",
    "for chave, valor in dict.items():\n",
    "    print(f'{chave} -> {valor}')"
   ]
  },
  {
   "cell_type": "code",
   "execution_count": 18,
   "id": "3b330732",
   "metadata": {},
   "outputs": [
    {
     "name": "stdout",
     "output_type": "stream",
     "text": [
      "Marcos\n",
      "45\n",
      "Ciêntista de Dados\n"
     ]
    }
   ],
   "source": [
    "# Imprimindo valores sem se importar com as chaves\n",
    "\n",
    "dict = {'nome': 'Marcos', 'idade': 45, 'profissao': 'Ciêntista de Dados'}\n",
    "\n",
    "for valor in dict.values():\n",
    "    print(valor)"
   ]
  },
  {
   "cell_type": "code",
   "execution_count": 19,
   "id": "99226a1c",
   "metadata": {},
   "outputs": [
    {
     "name": "stdout",
     "output_type": "stream",
     "text": [
      "nome\n",
      "idade\n",
      "profissao\n"
     ]
    }
   ],
   "source": [
    "# Imprimindo apenas as chaves\n",
    "\n",
    "dict = {'nome': 'Marcos', 'idade': 45, 'profissao': 'Ciêntista de Dados'}\n",
    "\n",
    "for chave in dict.keys():\n",
    "    print(chave)"
   ]
  },
  {
   "cell_type": "markdown",
   "id": "4d1f452e",
   "metadata": {},
   "source": [
    "### Loop for aninhado"
   ]
  },
  {
   "cell_type": "code",
   "execution_count": 21,
   "id": "265e7004",
   "metadata": {},
   "outputs": [
    {
     "name": "stdout",
     "output_type": "stream",
     "text": [
      "\n",
      " 0\n",
      "\n",
      " 0\n",
      "\n",
      " 0\n",
      "-------\n",
      "\n",
      " 1\n",
      "\n",
      " 2\n",
      "\n",
      " 3\n",
      "-------\n",
      "\n",
      " 2\n",
      "\n",
      " 4\n",
      "\n",
      " 6\n",
      "-------\n",
      "\n",
      " 3\n",
      "\n",
      " 6\n",
      "\n",
      " 9\n",
      "-------\n",
      "\n",
      " 4\n",
      "\n",
      " 8\n",
      "\n",
      " 12\n",
      "-------\n"
     ]
    }
   ],
   "source": [
    "# Loops aninhados\n",
    "\n",
    "list1 = [0, 1, 2, 3, 4]\n",
    "list2 = [1, 2, 3]\n",
    "\n",
    "# loop externo\n",
    "for elemento_list1 in list1:\n",
    "    # loop externo\n",
    "    for elemento_list2 in list2:\n",
    "        print('\\n', elemento_list1 * elemento_list2)\n",
    "    \n",
    "    print('-------')"
   ]
  },
  {
   "cell_type": "code",
   "execution_count": null,
   "id": "1d2371aa",
   "metadata": {},
   "outputs": [
    {
     "name": "stdout",
     "output_type": "stream",
     "text": [
      "O número 47 foi encontrado nas duas listas!\n"
     ]
    }
   ],
   "source": [
    "# O número 47 aparece nas duas listas\n",
    "\n",
    "lista1 = [10, 16, 24, 39, 47]\n",
    "lista2 = [32, 89, 47, 76, 12]\n",
    "\n",
    "# loop externo\n",
    "for elemento_lista1 in lista1:\n",
    "\n",
    "    # loop interno\n",
    "    for elemento_lista2 in lista2:\n",
    "\n",
    "        # condicional\n",
    "        if (elemento_lista1 == 47) and (elemento_lista2 == 47):\n",
    "            print('O número 47 foi encontrado nas duas listas!')"
   ]
  },
  {
   "cell_type": "code",
   "execution_count": 2,
   "id": "befc86ec",
   "metadata": {},
   "outputs": [
    {
     "name": "stdout",
     "output_type": "stream",
     "text": [
      " A soma dos números pares das duas listas é igual a 170\n"
     ]
    }
   ],
   "source": [
    "# Some os números pares da primeira lista com o s números pares da segunda lista\n",
    "\n",
    "lista1 = [10, 16, 24, 39, 47]\n",
    "lista2 = [32, 89, 47, 76, 12]\n",
    "soma = 0\n",
    "\n",
    "# loop externo\n",
    "for lista in [lista1, lista2]:\n",
    "\n",
    "    # loop interno\n",
    "    for num in lista:\n",
    "        \n",
    "        # Condicional\n",
    "        if (num % 2 == 0):\n",
    "            soma += num\n",
    "\n",
    "print(f\" A soma dos números pares das duas listas é igual a {soma}\")"
   ]
  },
  {
   "cell_type": "code",
   "execution_count": 3,
   "id": "3cedd167",
   "metadata": {},
   "outputs": [
    {
     "data": {
      "text/plain": [
       "[10, 16, 24, 39, 47, 32, 89, 47, 76, 12]"
      ]
     },
     "execution_count": 3,
     "metadata": {},
     "output_type": "execute_result"
    }
   ],
   "source": [
    "# Listas podem ser concatendas\n",
    "\n",
    "lista1 + lista2"
   ]
  },
  {
   "cell_type": "code",
   "execution_count": 4,
   "id": "0b2158d9",
   "metadata": {},
   "outputs": [
    {
     "name": "stdout",
     "output_type": "stream",
     "text": [
      "Soma dos valores pares: 170\n"
     ]
    }
   ],
   "source": [
    "# Some os números pares da primeira lista com os numeros pares da segunda lista\n",
    "\n",
    "lista1 = [10, 16, 24, 39, 47]\n",
    "lista2 = [32, 89, 47, 76, 12]\n",
    "soma = 0\n",
    "\n",
    "for num in lista1 + lista2:\n",
    "    if num % 2 == 0:\n",
    "        soma += num\n",
    "\n",
    "print(f'Soma dos valores pares: {soma}')"
   ]
  },
  {
   "cell_type": "code",
   "execution_count": 5,
   "id": "2682f7b1",
   "metadata": {},
   "outputs": [
    {
     "name": "stdout",
     "output_type": "stream",
     "text": [
      "Maior número.: 125\n"
     ]
    }
   ],
   "source": [
    "# Loop em lista de listas (Matrizes) para encontrar o maior número\n",
    "\n",
    "matriz = [[42, 23, 34], [100, 125, 114], [10.1, 98.7, 12.3]]\n",
    "maior_numero = 0\n",
    "\n",
    "# Loop externo\n",
    "for linha in matriz:\n",
    "\n",
    "    # loop interno\n",
    "    for num in linha:\n",
    "\n",
    "        # condicional\n",
    "        if num > maior_numero:\n",
    "            maior_numero = num\n",
    "\n",
    "print(f'Maior número.: {maior_numero}')"
   ]
  },
  {
   "cell_type": "code",
   "execution_count": 2,
   "id": "425b104a",
   "metadata": {},
   "outputs": [
    {
     "name": "stdout",
     "output_type": "stream",
     "text": [
      "k1\n",
      "k2\n",
      "k3\n"
     ]
    }
   ],
   "source": [
    "# Listando as chaves de um dicionário\n",
    "\n",
    "dict = {'k1':'Python', 'k2':'R', 'k3':'Scala'}\n",
    "\n",
    "for item in dict:\n",
    "    print(item)"
   ]
  },
  {
   "cell_type": "code",
   "execution_count": 3,
   "id": "e9856e1a",
   "metadata": {},
   "outputs": [
    {
     "name": "stdout",
     "output_type": "stream",
     "text": [
      "k1 Python\n",
      "k2 R\n",
      "k3 Scala\n"
     ]
    }
   ],
   "source": [
    "# Imprimindo chave e valor do dicionário. Usando o método items() para retornar os itens de um dicionário\n",
    "\n",
    "dict = {'k1':'Python', 'k2':'R', 'k3':'Scala'}\n",
    "\n",
    "for k, v in dict.items():\n",
    "    print(k, v)"
   ]
  },
  {
   "cell_type": "markdown",
   "id": "0ed923b8",
   "metadata": {},
   "source": [
    "### Loop while"
   ]
  },
  {
   "cell_type": "code",
   "execution_count": 2,
   "id": "3dd2855e",
   "metadata": {},
   "outputs": [
    {
     "name": "stdout",
     "output_type": "stream",
     "text": [
      "0-1-2-3-4-5-6-7-8-9-"
     ]
    }
   ],
   "source": [
    "# Usando o loop while para imprimir os valores de 0 a 9\n",
    "# A condição tem que deixar de ser verdadeira dentro do loop, senão pode travar o navegador ou mesmo o computador\n",
    "\n",
    "i = 0\n",
    "\n",
    "while i < 10:\n",
    "    print(i, end='-')\n",
    "    i += 1"
   ]
  },
  {
   "cell_type": "code",
   "execution_count": 4,
   "id": "d2deb8cc",
   "metadata": {},
   "outputs": [],
   "source": [
    "# Entra no loop somente se a condição for verdadeira\n",
    "\n",
    "i = 11\n",
    "\n",
    "while i < 10:\n",
    "    print(v, end='-')\n",
    "    i += 1\n"
   ]
  },
  {
   "cell_type": "code",
   "execution_count": 9,
   "id": "a3173e56",
   "metadata": {},
   "outputs": [
    {
     "name": "stdout",
     "output_type": "stream",
     "text": [
      "Loop concluído!\n",
      "12\n"
     ]
    }
   ],
   "source": [
    "# Também é possível usar a claúsula else para encerrar o loop while\n",
    "\n",
    "i = 12\n",
    "\n",
    "while i < 10:\n",
    "    print(f'O valor de x nesta iteração é: {i}')\n",
    "    print('i ainda é menor que 10, somando 1 a i')\n",
    "    i += 1\n",
    "else:\n",
    "    print('Loop concluído!')\n",
    "print(i)"
   ]
  },
  {
   "cell_type": "markdown",
   "id": "d8c23327",
   "metadata": {},
   "source": [
    "### while - pass, break, continue"
   ]
  },
  {
   "cell_type": "code",
   "execution_count": null,
   "id": "f575948f",
   "metadata": {},
   "outputs": [],
   "source": [
    "# Se encontramos o número 4 interrompemos o loop\n",
    "\n",
    "valor = 0\n",
    "\n",
    "while valor < 10:\n",
    "    if (valor == 4):\n",
    "        break\n",
    "    else:\n",
    "        pass\n",
    "    print(valor)\n",
    "    valor += 1"
   ]
  },
  {
   "cell_type": "code",
   "execution_count": 12,
   "id": "73299553",
   "metadata": {},
   "outputs": [
    {
     "name": "stdout",
     "output_type": "stream",
     "text": [
      "Python é  incrível"
     ]
    }
   ],
   "source": [
    "# Desconsideramos a letra \"z\" ao imprimir os caracteres da frase\n",
    "\n",
    "for letra in 'Python é zzz incrível':\n",
    "    if (letra == 'z'):\n",
    "        continue\n",
    "    print(letra, end='')"
   ]
  },
  {
   "cell_type": "markdown",
   "id": "80590de7",
   "metadata": {},
   "source": [
    "### Loop \"while\" e \"for\" juntos em tempo de execução "
   ]
  },
  {
   "cell_type": "code",
   "execution_count": 19,
   "id": "655f3b45",
   "metadata": {},
   "outputs": [
    {
     "name": "stdout",
     "output_type": "stream",
     "text": [
      "[2, 3, 5, 7, 11, 13, 17, 19, 23, 29]\n",
      "CPU times: total: 0 ns\n",
      "Wall time: 996 μs\n"
     ]
    }
   ],
   "source": [
    "%%time \n",
    "# Encontramos números primos entre 2 e 30 usando loop for e while\n",
    "\n",
    "# variável para armazenar números primos\n",
    "primos = []\n",
    "\n",
    "# loop for para percorrer números de 2 a 30\n",
    "for num in range(2, 31):\n",
    "    \n",
    "    # variável de controle\n",
    "    eh_primo = True\n",
    "\n",
    "    # loop while para verificar se o número é primo\n",
    "    i = 2\n",
    "    while i <= num //  2:\n",
    "        if (num % i == 0):\n",
    "            eh_primo = False\n",
    "            break\n",
    "        i += 1\n",
    "\n",
    "    # Adicionando o número primo na lista\n",
    "    if eh_primo:\n",
    "        primos.append(num)\n",
    "\n",
    "# imprimindo a lista de números primos\n",
    "print(primos)\n",
    "\n",
    "\n",
    "\n",
    "\n"
   ]
  },
  {
   "cell_type": "code",
   "execution_count": 18,
   "id": "0b1b818b",
   "metadata": {},
   "outputs": [
    {
     "name": "stdout",
     "output_type": "stream",
     "text": [
      "2 é número primo\n",
      "3 é número primo\n",
      "5 é número primo\n",
      "7 é número primo\n",
      "9 é número primo\n",
      "11 é número primo\n",
      "13 é número primo\n",
      "15 é número primo\n",
      "17 é número primo\n",
      "19 é número primo\n",
      "21 é número primo\n",
      "23 é número primo\n",
      "25 é número primo\n",
      "27 é número primo\n",
      "29 é número primo\n",
      "CPU times: total: 0 ns\n",
      "Wall time: 2 ms\n"
     ]
    }
   ],
   "source": [
    "%%time \n",
    "# Encontramos números primos entre 2 e 30 usando loop for e while\n",
    "\n",
    "# loop para percorrer números de 2 a 30\n",
    "for i in range(2, 31):\n",
    "\n",
    "    # variável de controle\n",
    "    j = 2\n",
    "\n",
    "    # contador\n",
    "    valor = 0\n",
    "\n",
    "    # loop while para verificar se o númro é primo\n",
    "    while j < i:\n",
    "        if (i % j == 0):\n",
    "            valor = 1\n",
    "            j += 1\n",
    "        else:\n",
    "            j += j\n",
    "\n",
    "    if valor == 0:\n",
    "        print(str(i) + ' é número primo')\n",
    "        valor = 0\n",
    "    else:\n",
    "        valor = 0\n"
   ]
  }
 ],
 "metadata": {
  "kernelspec": {
   "display_name": ".venv",
   "language": "python",
   "name": "python3"
  },
  "language_info": {
   "codemirror_mode": {
    "name": "ipython",
    "version": 3
   },
   "file_extension": ".py",
   "mimetype": "text/x-python",
   "name": "python",
   "nbconvert_exporter": "python",
   "pygments_lexer": "ipython3",
   "version": "3.12.1"
  }
 },
 "nbformat": 4,
 "nbformat_minor": 5
}
