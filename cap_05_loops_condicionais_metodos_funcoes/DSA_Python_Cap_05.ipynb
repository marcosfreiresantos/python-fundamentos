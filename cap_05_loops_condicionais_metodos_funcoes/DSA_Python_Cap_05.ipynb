{
 "cells": [
  {
   "cell_type": "markdown",
   "id": "97d671ef",
   "metadata": {},
   "source": [
    "### Condicionais"
   ]
  },
  {
   "cell_type": "code",
   "execution_count": 1,
   "id": "9eb4b234",
   "metadata": {},
   "outputs": [
    {
     "name": "stdout",
     "output_type": "stream",
     "text": [
      "A sentença é verdadeira!\n"
     ]
    }
   ],
   "source": [
    "# Condicional if\n",
    "\n",
    "if 5 > 2:\n",
    "    print('A sentença é verdadeira!')\n"
   ]
  },
  {
   "cell_type": "code",
   "execution_count": 2,
   "id": "30848732",
   "metadata": {},
   "outputs": [
    {
     "name": "stdout",
     "output_type": "stream",
     "text": [
      "A sentença é falsa!\n"
     ]
    }
   ],
   "source": [
    "# Condicional if...else\n",
    "\n",
    "if 5 < 2:\n",
    "    print('A sentença é verdadeira!')\n",
    "else:\n",
    "    print('A sentença é falsa!')"
   ]
  },
  {
   "cell_type": "code",
   "execution_count": 3,
   "id": "66ac77f1",
   "metadata": {},
   "outputs": [
    {
     "name": "stdout",
     "output_type": "stream",
     "text": [
      "Hoje vai chover\n"
     ]
    }
   ],
   "source": [
    "# Condicional if ... else com variável\n",
    "\n",
    "dia = 'terca'\n",
    " \n",
    "if dia == 'segunda':\n",
    "    print('Fará sol!')\n",
    "else:\n",
    "    print('Hoje vai chover')"
   ]
  },
  {
   "cell_type": "code",
   "execution_count": 4,
   "id": "206356ba",
   "metadata": {},
   "outputs": [
    {
     "name": "stdout",
     "output_type": "stream",
     "text": [
      "Vai chover!\n"
     ]
    }
   ],
   "source": [
    "# Podemos usar o operador elif para validar mais de uma condição\n",
    "\n",
    "if dia == 'segunda':\n",
    "    print('Fará sol!')\n",
    "elif dia == 'terca':\n",
    "    print('Vai chover!')\n",
    "else:\n",
    "    print('Sem previsão do tempo para o dia relacionado')"
   ]
  },
  {
   "cell_type": "markdown",
   "id": "d2a494a3",
   "metadata": {},
   "source": [
    "### Operadores Relacionais"
   ]
  },
  {
   "cell_type": "code",
   "execution_count": 5,
   "id": "ef8313b5",
   "metadata": {},
   "outputs": [
    {
     "data": {
      "text/plain": [
       "True"
      ]
     },
     "execution_count": 5,
     "metadata": {},
     "output_type": "execute_result"
    }
   ],
   "source": [
    "6 > 3"
   ]
  },
  {
   "cell_type": "code",
   "execution_count": 6,
   "id": "43fc3fce",
   "metadata": {},
   "outputs": [
    {
     "data": {
      "text/plain": [
       "False"
      ]
     },
     "execution_count": 6,
     "metadata": {},
     "output_type": "execute_result"
    }
   ],
   "source": [
    "3 > 7 "
   ]
  },
  {
   "cell_type": "code",
   "execution_count": 7,
   "id": "af151ad8",
   "metadata": {},
   "outputs": [
    {
     "data": {
      "text/plain": [
       "True"
      ]
     },
     "execution_count": 7,
     "metadata": {},
     "output_type": "execute_result"
    }
   ],
   "source": [
    "4 < 8"
   ]
  },
  {
   "cell_type": "code",
   "execution_count": 8,
   "id": "b4727c81",
   "metadata": {},
   "outputs": [
    {
     "data": {
      "text/plain": [
       "True"
      ]
     },
     "execution_count": 8,
     "metadata": {},
     "output_type": "execute_result"
    }
   ],
   "source": [
    "4 >= 4"
   ]
  },
  {
   "cell_type": "code",
   "execution_count": 9,
   "id": "0b9a3125",
   "metadata": {},
   "outputs": [
    {
     "name": "stdout",
     "output_type": "stream",
     "text": [
      "Testando Python\n"
     ]
    }
   ],
   "source": [
    "if 5 == 5:\n",
    "    print('Testando Python')"
   ]
  },
  {
   "cell_type": "code",
   "execution_count": 10,
   "id": "d43eac2d",
   "metadata": {},
   "outputs": [
    {
     "name": "stdout",
     "output_type": "stream",
     "text": [
      "Parece que python funciona!\n"
     ]
    }
   ],
   "source": [
    "if True:\n",
    "    print('Parece que python funciona!')"
   ]
  },
  {
   "cell_type": "code",
   "execution_count": 12,
   "id": "2941ac24",
   "metadata": {},
   "outputs": [
    {
     "ename": "SyntaxError",
     "evalue": "expected ':' (4037360433.py, line 3)",
     "output_type": "error",
     "traceback": [
      "  \u001b[36mCell\u001b[39m\u001b[36m \u001b[39m\u001b[32mIn[12]\u001b[39m\u001b[32m, line 3\u001b[39m\n\u001b[31m    \u001b[39m\u001b[31mif 4 > 3\u001b[39m\n            ^\n\u001b[31mSyntaxError\u001b[39m\u001b[31m:\u001b[39m expected ':'\n"
     ]
    }
   ],
   "source": [
    "# Atenção com a sintaxe\n",
    "\n",
    "if 4 > 3\n",
    "    print('Tudo funciona')"
   ]
  },
  {
   "cell_type": "code",
   "execution_count": 14,
   "id": "94ed2e53",
   "metadata": {},
   "outputs": [
    {
     "ename": "IndentationError",
     "evalue": "expected an indented block after 'if' statement on line 3 (2271111588.py, line 4)",
     "output_type": "error",
     "traceback": [
      "  \u001b[36mCell\u001b[39m\u001b[36m \u001b[39m\u001b[32mIn[14]\u001b[39m\u001b[32m, line 4\u001b[39m\n\u001b[31m    \u001b[39m\u001b[31mprint('Tudo funciona')\u001b[39m\n    ^\n\u001b[31mIndentationError\u001b[39m\u001b[31m:\u001b[39m expected an indented block after 'if' statement on line 3\n"
     ]
    }
   ],
   "source": [
    "# Atenção com a sintaxe\n",
    "\n",
    "if 4 > 3:\n",
    "print('Tudo funciona')"
   ]
  },
  {
   "cell_type": "markdown",
   "id": "1ee4c40f",
   "metadata": {},
   "source": [
    "### Condicionais Aninhadas"
   ]
  },
  {
   "cell_type": "code",
   "execution_count": null,
   "id": "1f895dfc",
   "metadata": {},
   "outputs": [
    {
     "name": "stdout",
     "output_type": "stream",
     "text": [
      "Você pode dirigir\n"
     ]
    }
   ],
   "source": [
    "idade = 18\n",
    "\n",
    "if idade > 17:\n",
    "    print('Você pode dirigir')"
   ]
  },
  {
   "cell_type": "code",
   "execution_count": 2,
   "id": "1e07ece1",
   "metadata": {},
   "outputs": [
    {
     "name": "stdout",
     "output_type": "stream",
     "text": [
      "Ok Bob, você está autorizado a entrar!\n"
     ]
    }
   ],
   "source": [
    "nome = 'Bob'\n",
    "\n",
    "if idade > 13:\n",
    "    if nome == 'Bob':\n",
    "        print('Ok Bob, você está autorizado a entrar!')\n",
    "    else:\n",
    "        print('Desculpe, mas você não pode entrar!')"
   ]
  },
  {
   "cell_type": "code",
   "execution_count": 6,
   "id": "587c0456",
   "metadata": {},
   "outputs": [
    {
     "name": "stdout",
     "output_type": "stream",
     "text": [
      "Ok bob, você está autorizado a entrar!\n"
     ]
    }
   ],
   "source": [
    "idade = 13\n",
    "nome = 'Bob'\n",
    "\n",
    "if idade >= 13 and nome.upper() == 'BOB':\n",
    "    print(\"Ok bob, você está autorizado a entrar!\")"
   ]
  },
  {
   "cell_type": "code",
   "execution_count": 7,
   "id": "ac131d0e",
   "metadata": {},
   "outputs": [
    {
     "name": "stdout",
     "output_type": "stream",
     "text": [
      "OK Bob, você está autorizado a entrar!\n"
     ]
    }
   ],
   "source": [
    "idade = 12\n",
    "nome = 'Bob'\n",
    "\n",
    "if (idade >= 13) or (nome.lower() == 'bob'):\n",
    "    print('OK Bob, você está autorizado a entrar!')"
   ]
  },
  {
   "cell_type": "markdown",
   "id": "71680cd0",
   "metadata": {},
   "source": [
    "### Operadores Lógicos"
   ]
  },
  {
   "cell_type": "code",
   "execution_count": 8,
   "id": "7c59a824",
   "metadata": {},
   "outputs": [
    {
     "name": "stdout",
     "output_type": "stream",
     "text": [
      "Você pode dirigir!\n"
     ]
    }
   ],
   "source": [
    "idade = 18\n",
    "nome = 'Bob'\n",
    "\n",
    "if (idade > 17):\n",
    "    print('Você pode dirigir!')"
   ]
  },
  {
   "cell_type": "code",
   "execution_count": 9,
   "id": "9fd4f2dd",
   "metadata": {},
   "outputs": [
    {
     "name": "stdout",
     "output_type": "stream",
     "text": [
      "Automatizado!\n"
     ]
    }
   ],
   "source": [
    "idade = 18\n",
    "\n",
    "if (idade > 17) and (nome == 'Bob'):\n",
    "    print('Automatizado!')"
   ]
  },
  {
   "cell_type": "markdown",
   "id": "81217eeb",
   "metadata": {},
   "source": [
    "<b>Os operadores lógicos funcionam assim:</b>\n",
    "\n",
    "Operador <b>\"and\"</b> -> Retorna True se ambas as declarações forem verdadeiras.\n",
    "\n",
    "Operador <b>\"or\"</b> ->  Retorna True se uma das declarações for verdadeira.\n",
    "\n",
    "Operador <b>\"not\"</b> -> Inverte o resultado, retorna False se o resultdo for Tue\n"
   ]
  },
  {
   "cell_type": "code",
   "execution_count": 10,
   "id": "7b32fd6f",
   "metadata": {},
   "outputs": [
    {
     "name": "stdout",
     "output_type": "stream",
     "text": [
      "Isso está sendo impresso porque as duas condições são verdadeiras!\n"
     ]
    }
   ],
   "source": [
    "# Operador and\n",
    "\n",
    "numero = 4\n",
    "\n",
    "if (numero > 2) and (numero % 2 == 0):\n",
    "    print('Isso está sendo impresso porque as duas condições são verdadeiras!')"
   ]
  },
  {
   "cell_type": "code",
   "execution_count": 12,
   "id": "6afcef9c",
   "metadata": {},
   "outputs": [
    {
     "name": "stdout",
     "output_type": "stream",
     "text": [
      "Isso está sendo impresso porque uma das duas codições é falsa\n"
     ]
    }
   ],
   "source": [
    "# Operador and\n",
    "\n",
    "numero = 4\n",
    "\n",
    "if (numero > 5) and (numero % 2 == 0):\n",
    "    print('Isso está sendo impresso porque as duas condições são verdadeiras!')\n",
    "else:\n",
    "    print('Isso está sendo impresso porque uma das duas codições é falsa')"
   ]
  },
  {
   "cell_type": "code",
   "execution_count": 13,
   "id": "3138c2ee",
   "metadata": {},
   "outputs": [
    {
     "name": "stdout",
     "output_type": "stream",
     "text": [
      "Isso está sendo impresso porque uma das duas condições é verdadeira!\n"
     ]
    }
   ],
   "source": [
    "# Operador or\n",
    "\n",
    "numero = 4\n",
    "\n",
    "if (numero > 5) or (numero % 2 == 0):\n",
    "    print('Isso está sendo impresso porque uma das duas condições é verdadeira!')"
   ]
  },
  {
   "cell_type": "code",
   "execution_count": 14,
   "id": "cd82045e",
   "metadata": {},
   "outputs": [
    {
     "name": "stdout",
     "output_type": "stream",
     "text": [
      "Isso está sendo impresso porque as duas condições são verdadeiras\"\n"
     ]
    }
   ],
   "source": [
    "# Operador not\n",
    "\n",
    "numero = 4\n",
    "\n",
    "if not(numero > 5) and (numero % 2 == 0):\n",
    "    print('Isso está sendo impresso porque as duas condições são verdadeiras\"')\n",
    "else:\n",
    "    print('Isso está sendo impresso porque uma das duas condições é falsa!')"
   ]
  },
  {
   "cell_type": "code",
   "execution_count": 15,
   "id": "f40ce96c",
   "metadata": {},
   "outputs": [
    {
     "name": "stdout",
     "output_type": "stream",
     "text": [
      "Isso está sendo impresso porque as duas primeiras condições são verdadeiras ou a terceira é verdadeira\n"
     ]
    }
   ],
   "source": [
    "# Operadores and, or e not\n",
    "\n",
    "numero = 4\n",
    "\n",
    "if (not(numero > 5) and (numero % 2 == 0)) or (numero == 4):\n",
    "    print('Isso está sendo impresso porque as duas primeiras condições são verdadeiras ou a terceira é verdadeira')"
   ]
  },
  {
   "cell_type": "code",
   "execution_count": 16,
   "id": "2fb0ea79",
   "metadata": {},
   "outputs": [
    {
     "name": "stdout",
     "output_type": "stream",
     "text": [
      "Você foi aprovado\n"
     ]
    }
   ],
   "source": [
    "# Exemplo com o uso de variáveis\n",
    "\n",
    "disciplina = 'Data Science'\n",
    "nota_final = 70\n",
    "\n",
    "if (disciplina.lower() == 'data science') and (nota_final >= 70):\n",
    "    print('Você foi aprovado')\n",
    "else:\n",
    "    print('Lamento, acho que você precisa estudar mais!')"
   ]
  },
  {
   "cell_type": "code",
   "execution_count": 19,
   "id": "1a912d96",
   "metadata": {},
   "outputs": [
    {
     "name": "stdout",
     "output_type": "stream",
     "text": [
      "Lamento, acho que você precisa estudar mais\n"
     ]
    }
   ],
   "source": [
    "# Usando mais de uma condição na cláusula if\n",
    "\n",
    "disciplina = 'Data Science'\n",
    "nota_final = 60\n",
    "\n",
    "if (disciplina.lower() == 'data science') and (nota_final >= 70):\n",
    "    print('Você foi aprovado!')\n",
    "else:\n",
    "    print('Lamento, acho que você precisa estudar mais')"
   ]
  },
  {
   "cell_type": "code",
   "execution_count": 25,
   "id": "f4760118",
   "metadata": {},
   "outputs": [
    {
     "name": "stdout",
     "output_type": "stream",
     "text": [
      "Você foi aprovado em data science com a média de 90.0\n"
     ]
    }
   ],
   "source": [
    "# Usando mais de uma condição na cláusula if\n",
    "\n",
    "disciplina = str(input('Informe a disciplina.: ')).strip().lower()\n",
    "nota_final = float(input('Informe a nota final.: '))\n",
    "semestre = str(input('Informe qual semestre está cursando.:'))\n",
    "\n",
    "if (disciplina == 'data science') and (nota_final >= 80) and (semestre != 1):\n",
    "    print(f'Você foi aprovado em {disciplina} com a média de {nota_final}')\n",
    "else:\n",
    "    print('Lamento, acho que você precisa estudar mais!')"
   ]
  },
  {
   "cell_type": "markdown",
   "id": "d207a8c0",
   "metadata": {},
   "source": [
    "### Loop For"
   ]
  },
  {
   "cell_type": "code",
   "execution_count": 1,
   "id": "ae6322d3",
   "metadata": {},
   "outputs": [
    {
     "name": "stdout",
     "output_type": "stream",
     "text": [
      "2\n",
      "3\n",
      "4\n"
     ]
    }
   ],
   "source": [
    "# Criando uma tupla e imprimindo cada um dos valores\n",
    "\n",
    "tp = (2, 3, 4)\n",
    "\n",
    "for i in tp:\n",
    "    print(i)"
   ]
  },
  {
   "cell_type": "code",
   "execution_count": 2,
   "id": "63a04cdb",
   "metadata": {},
   "outputs": [
    {
     "name": "stdout",
     "output_type": "stream",
     "text": [
      "Data\n",
      "Science\n",
      "Academy\n"
     ]
    }
   ],
   "source": [
    "# Criando uma lista e imprimindo cada um dos valores\n",
    "\n",
    "lista_de_strings = ['Data', 'Science', 'Academy']\n",
    "\n",
    "for i in lista_de_strings:\n",
    "    print(i)"
   ]
  },
  {
   "cell_type": "code",
   "execution_count": 3,
   "id": "6fb3cefa",
   "metadata": {},
   "outputs": [
    {
     "name": "stdout",
     "output_type": "stream",
     "text": [
      "0\n",
      "1\n",
      "2\n",
      "3\n",
      "4\n"
     ]
    }
   ],
   "source": [
    "# Imprimindo os valores no intervalo entre 0 e 5 (exclusive)\n",
    "\n",
    "for contador in range(0, 5):\n",
    "    print(contador)"
   ]
  },
  {
   "cell_type": "code",
   "execution_count": 4,
   "id": "d196238f",
   "metadata": {},
   "outputs": [
    {
     "name": "stdout",
     "output_type": "stream",
     "text": [
      "2\n",
      "4\n",
      "6\n",
      "8\n",
      "10\n"
     ]
    }
   ],
   "source": [
    "# Imprimindo os valores pares da lista de numeros\n",
    "\n",
    "lista = [1, 2, 3, 4, 5, 6, 7, 8, 9, 10]\n",
    "\n",
    "for num in lista:\n",
    "    if (num % 2 == 0):\n",
    "        print(num)"
   ]
  },
  {
   "cell_type": "code",
   "execution_count": 7,
   "id": "52c40825",
   "metadata": {},
   "outputs": [
    {
     "name": "stdout",
     "output_type": "stream",
     "text": [
      "0-2-4-6-8-10-12-14-16-18-20-22-24-26-28-30-32-34-36-38-40-42-44-46-48-50-52-54-56-58-60-62-64-66-68-70-72-74-76-78-80-82-84-86-88-90-92-94-96-98-100-"
     ]
    }
   ],
   "source": [
    "# Listando os números no intervalo entre 0 e 101, com incremento em 2\n",
    "\n",
    "for i in range(0, 101, 2):\n",
    "    print(i, end='-')"
   ]
  },
  {
   "cell_type": "code",
   "execution_count": 8,
   "id": "427247d8",
   "metadata": {},
   "outputs": [
    {
     "name": "stdout",
     "output_type": "stream",
     "text": [
      "P y t h o n   é   u m a   l i n g u a g e m   d e   p r o g r a m a ç ã o   d i v e r t i d a "
     ]
    }
   ],
   "source": [
    "# String também são sequencias\n",
    "\n",
    "for caracter in 'Python é uma linguagem de programação divertida':\n",
    "    print(caracter, end=' ')"
   ]
  },
  {
   "cell_type": "code",
   "execution_count": null,
   "id": "026a40b0",
   "metadata": {},
   "outputs": [
    {
     "name": "stdout",
     "output_type": "stream",
     "text": [
      "nome\n",
      "idade\n",
      "profissao\n"
     ]
    }
   ],
   "source": [
    "# Dicionarios com loop for, imprimindo as chaves\n",
    "\n",
    "dict = {'nome': 'Marcos', 'idade': 45, 'profissao': 'Ciêntista de Dados'}\n",
    "\n",
    "for chave in dict:\n",
    "    print(chave)"
   ]
  },
  {
   "cell_type": "code",
   "execution_count": 14,
   "id": "ba826d0d",
   "metadata": {},
   "outputs": [
    {
     "name": "stdout",
     "output_type": "stream",
     "text": [
      "nome: Marcos\n",
      "idade: 45\n",
      "profissao: Ciêntista de Dados\n"
     ]
    }
   ],
   "source": [
    "# Percorrer as chaves e acessar os valores\n",
    "\n",
    "dict = {'nome': 'Marcos', 'idade': 45, 'profissao': 'Ciêntista de Dados'}\n",
    "\n",
    "for chave in dict:\n",
    "    print(f'{chave}: {dict[chave]}')"
   ]
  },
  {
   "cell_type": "code",
   "execution_count": 16,
   "id": "fe31eec8",
   "metadata": {},
   "outputs": [
    {
     "name": "stdout",
     "output_type": "stream",
     "text": [
      "nome -> Marcos\n",
      "idade -> 45\n",
      "profissao -> Ciêntista de Dados\n"
     ]
    }
   ],
   "source": [
    "#  Usar items() para pegar chave e valor ao mesmo tempo\n",
    "\n",
    "dict = {'nome': 'Marcos', 'idade': 45, 'profissao': 'Ciêntista de Dados'}\n",
    "\n",
    "for chave, valor in dict.items():\n",
    "    print(f'{chave} -> {valor}')"
   ]
  },
  {
   "cell_type": "code",
   "execution_count": 18,
   "id": "3b330732",
   "metadata": {},
   "outputs": [
    {
     "name": "stdout",
     "output_type": "stream",
     "text": [
      "Marcos\n",
      "45\n",
      "Ciêntista de Dados\n"
     ]
    }
   ],
   "source": [
    "# Imprimindo valores sem se importar com as chaves\n",
    "\n",
    "dict = {'nome': 'Marcos', 'idade': 45, 'profissao': 'Ciêntista de Dados'}\n",
    "\n",
    "for valor in dict.values():\n",
    "    print(valor)"
   ]
  },
  {
   "cell_type": "code",
   "execution_count": 19,
   "id": "99226a1c",
   "metadata": {},
   "outputs": [
    {
     "name": "stdout",
     "output_type": "stream",
     "text": [
      "nome\n",
      "idade\n",
      "profissao\n"
     ]
    }
   ],
   "source": [
    "# Imprimindo apenas as chaves\n",
    "\n",
    "dict = {'nome': 'Marcos', 'idade': 45, 'profissao': 'Ciêntista de Dados'}\n",
    "\n",
    "for chave in dict.keys():\n",
    "    print(chave)"
   ]
  },
  {
   "cell_type": "markdown",
   "id": "4d1f452e",
   "metadata": {},
   "source": [
    "### Loop for aninhado"
   ]
  },
  {
   "cell_type": "code",
   "execution_count": 21,
   "id": "265e7004",
   "metadata": {},
   "outputs": [
    {
     "name": "stdout",
     "output_type": "stream",
     "text": [
      "\n",
      " 0\n",
      "\n",
      " 0\n",
      "\n",
      " 0\n",
      "-------\n",
      "\n",
      " 1\n",
      "\n",
      " 2\n",
      "\n",
      " 3\n",
      "-------\n",
      "\n",
      " 2\n",
      "\n",
      " 4\n",
      "\n",
      " 6\n",
      "-------\n",
      "\n",
      " 3\n",
      "\n",
      " 6\n",
      "\n",
      " 9\n",
      "-------\n",
      "\n",
      " 4\n",
      "\n",
      " 8\n",
      "\n",
      " 12\n",
      "-------\n"
     ]
    }
   ],
   "source": [
    "# Loops aninhados\n",
    "\n",
    "list1 = [0, 1, 2, 3, 4]\n",
    "list2 = [1, 2, 3]\n",
    "\n",
    "# loop externo\n",
    "for elemento_list1 in list1:\n",
    "    # loop externo\n",
    "    for elemento_list2 in list2:\n",
    "        print('\\n', elemento_list1 * elemento_list2)\n",
    "    \n",
    "    print('-------')"
   ]
  },
  {
   "cell_type": "code",
   "execution_count": null,
   "id": "1d2371aa",
   "metadata": {},
   "outputs": [
    {
     "name": "stdout",
     "output_type": "stream",
     "text": [
      "O número 47 foi encontrado nas duas listas!\n"
     ]
    }
   ],
   "source": [
    "# O número 47 aparece nas duas listas\n",
    "\n",
    "lista1 = [10, 16, 24, 39, 47]\n",
    "lista2 = [32, 89, 47, 76, 12]\n",
    "\n",
    "# loop externo\n",
    "for elemento_lista1 in lista1:\n",
    "\n",
    "    # loop interno\n",
    "    for elemento_lista2 in lista2:\n",
    "\n",
    "        # condicional\n",
    "        if (elemento_lista1 == 47) and (elemento_lista2 == 47):\n",
    "            print('O número 47 foi encontrado nas duas listas!')"
   ]
  },
  {
   "cell_type": "code",
   "execution_count": 2,
   "id": "befc86ec",
   "metadata": {},
   "outputs": [
    {
     "name": "stdout",
     "output_type": "stream",
     "text": [
      " A soma dos números pares das duas listas é igual a 170\n"
     ]
    }
   ],
   "source": [
    "# Some os números pares da primeira lista com o s números pares da segunda lista\n",
    "\n",
    "lista1 = [10, 16, 24, 39, 47]\n",
    "lista2 = [32, 89, 47, 76, 12]\n",
    "soma = 0\n",
    "\n",
    "# loop externo\n",
    "for lista in [lista1, lista2]:\n",
    "\n",
    "    # loop interno\n",
    "    for num in lista:\n",
    "        \n",
    "        # Condicional\n",
    "        if (num % 2 == 0):\n",
    "            soma += num\n",
    "\n",
    "print(f\" A soma dos números pares das duas listas é igual a {soma}\")"
   ]
  },
  {
   "cell_type": "code",
   "execution_count": 3,
   "id": "3cedd167",
   "metadata": {},
   "outputs": [
    {
     "data": {
      "text/plain": [
       "[10, 16, 24, 39, 47, 32, 89, 47, 76, 12]"
      ]
     },
     "execution_count": 3,
     "metadata": {},
     "output_type": "execute_result"
    }
   ],
   "source": [
    "# Listas podem ser concatendas\n",
    "\n",
    "lista1 + lista2"
   ]
  },
  {
   "cell_type": "code",
   "execution_count": 4,
   "id": "0b2158d9",
   "metadata": {},
   "outputs": [
    {
     "name": "stdout",
     "output_type": "stream",
     "text": [
      "Soma dos valores pares: 170\n"
     ]
    }
   ],
   "source": [
    "# Some os números pares da primeira lista com os numeros pares da segunda lista\n",
    "\n",
    "lista1 = [10, 16, 24, 39, 47]\n",
    "lista2 = [32, 89, 47, 76, 12]\n",
    "soma = 0\n",
    "\n",
    "for num in lista1 + lista2:\n",
    "    if num % 2 == 0:\n",
    "        soma += num\n",
    "\n",
    "print(f'Soma dos valores pares: {soma}')"
   ]
  },
  {
   "cell_type": "code",
   "execution_count": 5,
   "id": "2682f7b1",
   "metadata": {},
   "outputs": [
    {
     "name": "stdout",
     "output_type": "stream",
     "text": [
      "Maior número.: 125\n"
     ]
    }
   ],
   "source": [
    "# Loop em lista de listas (Matrizes) para encontrar o maior número\n",
    "\n",
    "matriz = [[42, 23, 34], [100, 125, 114], [10.1, 98.7, 12.3]]\n",
    "maior_numero = 0\n",
    "\n",
    "# Loop externo\n",
    "for linha in matriz:\n",
    "\n",
    "    # loop interno\n",
    "    for num in linha:\n",
    "\n",
    "        # condicional\n",
    "        if num > maior_numero:\n",
    "            maior_numero = num\n",
    "\n",
    "print(f'Maior número.: {maior_numero}')"
   ]
  },
  {
   "cell_type": "code",
   "execution_count": 2,
   "id": "425b104a",
   "metadata": {},
   "outputs": [
    {
     "name": "stdout",
     "output_type": "stream",
     "text": [
      "k1\n",
      "k2\n",
      "k3\n"
     ]
    }
   ],
   "source": [
    "# Listando as chaves de um dicionário\n",
    "\n",
    "dict = {'k1':'Python', 'k2':'R', 'k3':'Scala'}\n",
    "\n",
    "for item in dict:\n",
    "    print(item)"
   ]
  },
  {
   "cell_type": "code",
   "execution_count": 3,
   "id": "e9856e1a",
   "metadata": {},
   "outputs": [
    {
     "name": "stdout",
     "output_type": "stream",
     "text": [
      "k1 Python\n",
      "k2 R\n",
      "k3 Scala\n"
     ]
    }
   ],
   "source": [
    "# Imprimindo chave e valor do dicionário. Usando o método items() para retornar os itens de um dicionário\n",
    "\n",
    "dict = {'k1':'Python', 'k2':'R', 'k3':'Scala'}\n",
    "\n",
    "for k, v in dict.items():\n",
    "    print(k, v)"
   ]
  },
  {
   "cell_type": "markdown",
   "id": "0ed923b8",
   "metadata": {},
   "source": [
    "### Loop while"
   ]
  },
  {
   "cell_type": "code",
   "execution_count": 2,
   "id": "3dd2855e",
   "metadata": {},
   "outputs": [
    {
     "name": "stdout",
     "output_type": "stream",
     "text": [
      "0-1-2-3-4-5-6-7-8-9-"
     ]
    }
   ],
   "source": [
    "# Usando o loop while para imprimir os valores de 0 a 9\n",
    "# A condição tem que deixar de ser verdadeira dentro do loop, senão pode travar o navegador ou mesmo o computador\n",
    "\n",
    "i = 0\n",
    "\n",
    "while i < 10:\n",
    "    print(i, end='-')\n",
    "    i += 1"
   ]
  },
  {
   "cell_type": "code",
   "execution_count": 4,
   "id": "d2deb8cc",
   "metadata": {},
   "outputs": [],
   "source": [
    "# Entra no loop somente se a condição for verdadeira\n",
    "\n",
    "i = 11\n",
    "\n",
    "while i < 10:\n",
    "    print(v, end='-')\n",
    "    i += 1\n"
   ]
  },
  {
   "cell_type": "code",
   "execution_count": 9,
   "id": "a3173e56",
   "metadata": {},
   "outputs": [
    {
     "name": "stdout",
     "output_type": "stream",
     "text": [
      "Loop concluído!\n",
      "12\n"
     ]
    }
   ],
   "source": [
    "# Também é possível usar a claúsula else para encerrar o loop while\n",
    "\n",
    "i = 12\n",
    "\n",
    "while i < 10:\n",
    "    print(f'O valor de x nesta iteração é: {i}')\n",
    "    print('i ainda é menor que 10, somando 1 a i')\n",
    "    i += 1\n",
    "else:\n",
    "    print('Loop concluído!')\n",
    "print(i)"
   ]
  },
  {
   "cell_type": "markdown",
   "id": "d8c23327",
   "metadata": {},
   "source": [
    "### while - pass, break, continue"
   ]
  },
  {
   "cell_type": "code",
   "execution_count": null,
   "id": "f575948f",
   "metadata": {},
   "outputs": [],
   "source": [
    "# Se encontramos o número 4 interrompemos o loop\n",
    "\n",
    "valor = 0\n",
    "\n",
    "while valor < 10:\n",
    "    if (valor == 4):\n",
    "        break\n",
    "    else:\n",
    "        pass\n",
    "    print(valor)\n",
    "    valor += 1"
   ]
  },
  {
   "cell_type": "code",
   "execution_count": 12,
   "id": "73299553",
   "metadata": {},
   "outputs": [
    {
     "name": "stdout",
     "output_type": "stream",
     "text": [
      "Python é  incrível"
     ]
    }
   ],
   "source": [
    "# Desconsideramos a letra \"z\" ao imprimir os caracteres da frase\n",
    "\n",
    "for letra in 'Python é zzz incrível':\n",
    "    if (letra == 'z'):\n",
    "        continue\n",
    "    print(letra, end='')"
   ]
  },
  {
   "cell_type": "markdown",
   "id": "80590de7",
   "metadata": {},
   "source": [
    "### Loop \"while\" e \"for\" juntos em tempo de execução "
   ]
  },
  {
   "cell_type": "code",
   "execution_count": 19,
   "id": "655f3b45",
   "metadata": {},
   "outputs": [
    {
     "name": "stdout",
     "output_type": "stream",
     "text": [
      "[2, 3, 5, 7, 11, 13, 17, 19, 23, 29]\n",
      "CPU times: total: 0 ns\n",
      "Wall time: 996 μs\n"
     ]
    }
   ],
   "source": [
    "%%time \n",
    "# Encontramos números primos entre 2 e 30 usando loop for e while\n",
    "\n",
    "# variável para armazenar números primos\n",
    "primos = []\n",
    "\n",
    "# loop for para percorrer números de 2 a 30\n",
    "for num in range(2, 31):\n",
    "    \n",
    "    # variável de controle\n",
    "    eh_primo = True\n",
    "\n",
    "    # loop while para verificar se o número é primo\n",
    "    i = 2\n",
    "    while i <= num //  2:\n",
    "        if (num % i == 0):\n",
    "            eh_primo = False\n",
    "            break\n",
    "        i += 1\n",
    "\n",
    "    # Adicionando o número primo na lista\n",
    "    if eh_primo:\n",
    "        primos.append(num)\n",
    "\n",
    "# imprimindo a lista de números primos\n",
    "print(primos)\n",
    "\n",
    "\n",
    "\n",
    "\n"
   ]
  },
  {
   "cell_type": "code",
   "execution_count": 18,
   "id": "0b1b818b",
   "metadata": {},
   "outputs": [
    {
     "name": "stdout",
     "output_type": "stream",
     "text": [
      "2 é número primo\n",
      "3 é número primo\n",
      "5 é número primo\n",
      "7 é número primo\n",
      "9 é número primo\n",
      "11 é número primo\n",
      "13 é número primo\n",
      "15 é número primo\n",
      "17 é número primo\n",
      "19 é número primo\n",
      "21 é número primo\n",
      "23 é número primo\n",
      "25 é número primo\n",
      "27 é número primo\n",
      "29 é número primo\n",
      "CPU times: total: 0 ns\n",
      "Wall time: 2 ms\n"
     ]
    }
   ],
   "source": [
    "%%time \n",
    "# Encontramos números primos entre 2 e 30 usando loop for e while\n",
    "\n",
    "# loop para percorrer números de 2 a 30\n",
    "for i in range(2, 31):\n",
    "\n",
    "    # variável de controle\n",
    "    j = 2\n",
    "\n",
    "    # contador\n",
    "    valor = 0\n",
    "\n",
    "    # loop while para verificar se o númro é primo\n",
    "    while j < i:\n",
    "        if (i % j == 0):\n",
    "            valor = 1\n",
    "            j += 1\n",
    "        else:\n",
    "            j += j\n",
    "\n",
    "    if valor == 0:\n",
    "        print(str(i) + ' é número primo')\n",
    "        valor = 0\n",
    "    else:\n",
    "        valor = 0\n"
   ]
  },
  {
   "cell_type": "markdown",
   "id": "04dd7ac1",
   "metadata": {},
   "source": [
    "### Função range()"
   ]
  },
  {
   "cell_type": "code",
   "execution_count": 2,
   "id": "b7a42184",
   "metadata": {},
   "outputs": [
    {
     "name": "stdout",
     "output_type": "stream",
     "text": [
      "1 2 3 4 5 6 7 8 9 10 "
     ]
    }
   ],
   "source": [
    "# Imprimindo números de 1 a 10\n",
    "\n",
    "for i in range(1, 11):\n",
    "    print(i, end=' ')\n"
   ]
  },
  {
   "cell_type": "code",
   "execution_count": 4,
   "id": "c1f11863",
   "metadata": {},
   "outputs": [
    {
     "name": "stdout",
     "output_type": "stream",
     "text": [
      "50 - 52 - 54 - 56 - 58 - 60 - 62 - 64 - 66 - 68 - 70 - 72 - 74 - 76 - 78 - 80 - 82 - 84 - 86 - 88 - 90 - 92 - 94 - 96 - 98 - 100 - "
     ]
    }
   ],
   "source": [
    "# Imprimindo números pares entre 50 e 101\n",
    "\n",
    "for i in range(50, 101, 2):\n",
    "    print(i, end=' - ')"
   ]
  },
  {
   "cell_type": "code",
   "execution_count": null,
   "id": "e2fcc8bd",
   "metadata": {},
   "outputs": [
    {
     "name": "stdout",
     "output_type": "stream",
     "text": [
      "0\n",
      "-2\n",
      "-4\n",
      "-6\n",
      "-8\n",
      "-10\n",
      "-12\n",
      "-14\n",
      "-16\n",
      "-18\n"
     ]
    }
   ],
   "source": [
    "# Imprimindo números pares negativos entre 0 -20\n",
    "\n",
    "for i in range(0, -20, -2):\n",
    "    print(i)"
   ]
  },
  {
   "cell_type": "code",
   "execution_count": 6,
   "id": "21a2701e",
   "metadata": {},
   "outputs": [
    {
     "name": "stdout",
     "output_type": "stream",
     "text": [
      "Abacaxi\n",
      "Banana\n",
      "Morango\n",
      "Uva\n"
     ]
    }
   ],
   "source": [
    "# Usando o tamanho da lista na função range()\n",
    "\n",
    "lista = ['Abacaxi', 'Banana', 'Morango', 'Uva']\n",
    "lista_tamanho = len(lista)\n",
    "\n",
    "for i in range(0, lista_tamanho):\n",
    "    print(lista[i])"
   ]
  },
  {
   "cell_type": "code",
   "execution_count": 9,
   "id": "a3b7c7ec",
   "metadata": {},
   "outputs": [
    {
     "name": "stdout",
     "output_type": "stream",
     "text": [
      "Abacaxi\n",
      "Banana\n",
      "Morango\n",
      "Uva\n"
     ]
    }
   ],
   "source": [
    "lista = ['Abacaxi', 'Banana', 'Morango', 'Uva']\n",
    "\n",
    "for i in range(0, len(lista)):\n",
    "    print(lista[i])"
   ]
  },
  {
   "cell_type": "markdown",
   "id": "04dda33f",
   "metadata": {},
   "source": [
    "### Métodos"
   ]
  },
  {
   "cell_type": "code",
   "execution_count": 10,
   "id": "4d965c20",
   "metadata": {},
   "outputs": [],
   "source": [
    "# Criando uma lista\n",
    "\n",
    "lista_3 = [100, -2, 12, 65, 0]"
   ]
  },
  {
   "cell_type": "code",
   "execution_count": 11,
   "id": "806ec1c8",
   "metadata": {},
   "outputs": [
    {
     "data": {
      "text/plain": [
       "list"
      ]
     },
     "execution_count": 11,
     "metadata": {},
     "output_type": "execute_result"
    }
   ],
   "source": [
    "type(lista_3)"
   ]
  },
  {
   "cell_type": "code",
   "execution_count": 12,
   "id": "53390832",
   "metadata": {},
   "outputs": [
    {
     "data": {
      "text/plain": [
       "[100, -2, 12, 65, 0]"
      ]
     },
     "execution_count": 12,
     "metadata": {},
     "output_type": "execute_result"
    }
   ],
   "source": [
    "# Verificando métodos e atributos\n",
    "\n",
    "lista_3"
   ]
  },
  {
   "cell_type": "code",
   "execution_count": 13,
   "id": "cfdbbe17",
   "metadata": {},
   "outputs": [],
   "source": [
    "# Usando um método do objeto lista\n",
    "\n",
    "lista_3.append(100)"
   ]
  },
  {
   "cell_type": "code",
   "execution_count": null,
   "id": "76799deb",
   "metadata": {},
   "outputs": [
    {
     "name": "stdout",
     "output_type": "stream",
     "text": [
      "[100, -2, 12, 65, 0, 100]\n"
     ]
    }
   ],
   "source": [
    "# Imprimindo a lista\n",
    "\n",
    "print(lista_3)"
   ]
  },
  {
   "cell_type": "code",
   "execution_count": 16,
   "id": "7b36b83d",
   "metadata": {},
   "outputs": [
    {
     "data": {
      "text/plain": [
       "2"
      ]
     },
     "execution_count": 16,
     "metadata": {},
     "output_type": "execute_result"
    }
   ],
   "source": [
    "# Usando um método do objeto lista\n",
    "\n",
    "lista_3.count(100)"
   ]
  },
  {
   "cell_type": "code",
   "execution_count": 17,
   "id": "e9c59d76",
   "metadata": {},
   "outputs": [
    {
     "name": "stdout",
     "output_type": "stream",
     "text": [
      "Help on built-in function count:\n",
      "\n",
      "count(value, /) method of builtins.list instance\n",
      "    Return number of occurrences of value.\n",
      "\n"
     ]
    }
   ],
   "source": [
    "# A funcão help() explica como utilizar cada método de um objeto\n",
    "\n",
    "help(lista_3.count)"
   ]
  },
  {
   "cell_type": "code",
   "execution_count": 18,
   "id": "0c313e20",
   "metadata": {},
   "outputs": [
    {
     "data": {
      "text/plain": [
       "['__add__',\n",
       " '__class__',\n",
       " '__class_getitem__',\n",
       " '__contains__',\n",
       " '__delattr__',\n",
       " '__delitem__',\n",
       " '__dir__',\n",
       " '__doc__',\n",
       " '__eq__',\n",
       " '__format__',\n",
       " '__ge__',\n",
       " '__getattribute__',\n",
       " '__getitem__',\n",
       " '__getstate__',\n",
       " '__gt__',\n",
       " '__hash__',\n",
       " '__iadd__',\n",
       " '__imul__',\n",
       " '__init__',\n",
       " '__init_subclass__',\n",
       " '__iter__',\n",
       " '__le__',\n",
       " '__len__',\n",
       " '__lt__',\n",
       " '__mul__',\n",
       " '__ne__',\n",
       " '__new__',\n",
       " '__reduce__',\n",
       " '__reduce_ex__',\n",
       " '__repr__',\n",
       " '__reversed__',\n",
       " '__rmul__',\n",
       " '__setattr__',\n",
       " '__setitem__',\n",
       " '__sizeof__',\n",
       " '__str__',\n",
       " '__subclasshook__',\n",
       " 'append',\n",
       " 'clear',\n",
       " 'copy',\n",
       " 'count',\n",
       " 'extend',\n",
       " 'index',\n",
       " 'insert',\n",
       " 'pop',\n",
       " 'remove',\n",
       " 'reverse',\n",
       " 'sort']"
      ]
     },
     "execution_count": 18,
     "metadata": {},
     "output_type": "execute_result"
    }
   ],
   "source": [
    "# A função dir() mostra todos os métodos e atributos de um objeto\n",
    "\n",
    "dir(lista)"
   ]
  },
  {
   "cell_type": "code",
   "execution_count": null,
   "id": "899aa717",
   "metadata": {},
   "outputs": [],
   "source": [
    "frase = 'isso é uma string'.upper()"
   ]
  },
  {
   "cell_type": "code",
   "execution_count": 21,
   "id": "ba461f8f",
   "metadata": {},
   "outputs": [
    {
     "data": {
      "text/plain": [
       "str"
      ]
     },
     "execution_count": 21,
     "metadata": {},
     "output_type": "execute_result"
    }
   ],
   "source": [
    "type(frase)"
   ]
  },
  {
   "cell_type": "code",
   "execution_count": 22,
   "id": "66f57786",
   "metadata": {},
   "outputs": [
    {
     "name": "stdout",
     "output_type": "stream",
     "text": [
      "['ISSO', 'É', 'UMA', 'STRING']\n"
     ]
    }
   ],
   "source": [
    "# O método de um objeto pode ser chamado dentro de uma função, como print()\n",
    "\n",
    "print(frase.split())"
   ]
  },
  {
   "cell_type": "markdown",
   "id": "25f80738",
   "metadata": {},
   "source": [
    "### Funções"
   ]
  },
  {
   "cell_type": "code",
   "execution_count": 31,
   "id": "72705a19",
   "metadata": {},
   "outputs": [
    {
     "name": "stdout",
     "output_type": "stream",
     "text": [
      "HELLO WORLD\n"
     ]
    }
   ],
   "source": [
    "print('Hello World'.upper())"
   ]
  },
  {
   "cell_type": "code",
   "execution_count": 45,
   "id": "d653701e",
   "metadata": {},
   "outputs": [],
   "source": [
    "def primeira_func():\n",
    "    print('Hello World')"
   ]
  },
  {
   "cell_type": "code",
   "execution_count": 46,
   "id": "430db305",
   "metadata": {},
   "outputs": [
    {
     "name": "stdout",
     "output_type": "stream",
     "text": [
      "Hello World\n"
     ]
    }
   ],
   "source": [
    "primeira_func()"
   ]
  },
  {
   "cell_type": "code",
   "execution_count": 47,
   "id": "a2846920",
   "metadata": {},
   "outputs": [],
   "source": [
    "def primeira_func():\n",
    "    nome = 'Bob'\n",
    "    print(f'Hello {nome}')"
   ]
  },
  {
   "cell_type": "code",
   "execution_count": 48,
   "id": "b73d0594",
   "metadata": {},
   "outputs": [
    {
     "name": "stdout",
     "output_type": "stream",
     "text": [
      "Hello Bob\n"
     ]
    }
   ],
   "source": [
    "primeira_func()"
   ]
  },
  {
   "cell_type": "code",
   "execution_count": 51,
   "id": "b7f0132d",
   "metadata": {},
   "outputs": [],
   "source": [
    "# Definindo uma função com parâmetro\n",
    "\n",
    "def segunda_func(nome):\n",
    "    print(f'Hello {nome}')"
   ]
  },
  {
   "cell_type": "code",
   "execution_count": null,
   "id": "09cd5321",
   "metadata": {},
   "outputs": [
    {
     "name": "stdout",
     "output_type": "stream",
     "text": [
      "Hello Aluno\n"
     ]
    }
   ],
   "source": [
    "segunda_func('Aluno')"
   ]
  },
  {
   "cell_type": "code",
   "execution_count": 57,
   "id": "73be9cb1",
   "metadata": {},
   "outputs": [
    {
     "ename": "TypeError",
     "evalue": "segunda_func() missing 1 required positional argument: 'nome'",
     "output_type": "error",
     "traceback": [
      "\u001b[31m---------------------------------------------------------------------------\u001b[39m",
      "\u001b[31mTypeError\u001b[39m                                 Traceback (most recent call last)",
      "\u001b[36mCell\u001b[39m\u001b[36m \u001b[39m\u001b[32mIn[57]\u001b[39m\u001b[32m, line 3\u001b[39m\n\u001b[32m      1\u001b[39m \u001b[38;5;66;03m# Erro porque não passou o parâmetro\u001b[39;00m\n\u001b[32m----> \u001b[39m\u001b[32m3\u001b[39m \u001b[43msegunda_func\u001b[49m\u001b[43m(\u001b[49m\u001b[43m)\u001b[49m\n",
      "\u001b[31mTypeError\u001b[39m: segunda_func() missing 1 required positional argument: 'nome'"
     ]
    }
   ],
   "source": [
    "# Erro porque não passou o parâmetro\n",
    "\n",
    "segunda_func()"
   ]
  },
  {
   "cell_type": "code",
   "execution_count": 54,
   "id": "6c0bc108",
   "metadata": {},
   "outputs": [],
   "source": [
    "# Função para imprimir números\n",
    "\n",
    "def imprime_numeros():\n",
    "    #loop\n",
    "    for i in range(0, 6):\n",
    "        print(f'Números {str(i)}')"
   ]
  },
  {
   "cell_type": "code",
   "execution_count": 56,
   "id": "fffe7b7f",
   "metadata": {},
   "outputs": [
    {
     "name": "stdout",
     "output_type": "stream",
     "text": [
      "Números 0\n",
      "Números 1\n",
      "Números 2\n",
      "Números 3\n",
      "Números 4\n",
      "Números 5\n"
     ]
    }
   ],
   "source": [
    "imprime_numeros()"
   ]
  },
  {
   "cell_type": "code",
   "execution_count": 60,
   "id": "ffbb4abe",
   "metadata": {},
   "outputs": [],
   "source": [
    "# Função para somar números\n",
    "\n",
    "def add_num(first_num, second_num):\n",
    "    print('Primeiro número: ' + str(first_num))\n",
    "    print('Segundo número: ' + str(second_num))\n",
    "    print(f'Soma: {first_num + second_num}')"
   ]
  },
  {
   "cell_type": "code",
   "execution_count": null,
   "id": "7badae91",
   "metadata": {},
   "outputs": [
    {
     "name": "stdout",
     "output_type": "stream",
     "text": [
      "Primeiro número: 4\n",
      "Segundo número: 7\n",
      "Soma: 11\n"
     ]
    }
   ],
   "source": [
    "# Chamando a função e passando parâmetros\n",
    "\n",
    "add_num(4, 7)"
   ]
  },
  {
   "cell_type": "code",
   "execution_count": null,
   "id": "2151e547",
   "metadata": {},
   "outputs": [
    {
     "name": "stdout",
     "output_type": "stream",
     "text": [
      "Primeiro número: 45\n",
      "Segundo número: 3\n",
      "Soma: 48\n"
     ]
    }
   ],
   "source": [
    "# Chamando a função e passando parâmetros\n",
    "\n",
    "add_num(45, 3)"
   ]
  },
  {
   "cell_type": "code",
   "execution_count": 67,
   "id": "6a239e8a",
   "metadata": {},
   "outputs": [],
   "source": [
    "# Funções com número variável de argumentos\n",
    "\n",
    "def print_var_infor(arg1, *args):\n",
    "    # imprimindo o valor do primeiro argumento\n",
    "    print(f'O parâmetro passado em arg1 foi: {arg1}')\n",
    "\n",
    "    # imprimindo o valor do segundo argumento\n",
    "    for item in args:\n",
    "        print(f'O parâmetro passado em args foi: {item}')\n",
    "    return"
   ]
  },
  {
   "cell_type": "code",
   "execution_count": null,
   "id": "cca51f2a",
   "metadata": {},
   "outputs": [
    {
     "name": "stdout",
     "output_type": "stream",
     "text": [
      "O parâmetro passado em arg1 foi: 10\n"
     ]
    }
   ],
   "source": [
    "# Chamando a função e passando um parametro, dessa forma vai igonorar o segundo \"*args\" que é uma tupla\n",
    "print_var_infor(10)"
   ]
  },
  {
   "cell_type": "code",
   "execution_count": null,
   "id": "1f18d12d",
   "metadata": {},
   "outputs": [
    {
     "name": "stdout",
     "output_type": "stream",
     "text": [
      "O parâmetro passado em arg1 foi: Chocolate\n",
      "O parâmetro passado em args foi: Morango\n"
     ]
    }
   ],
   "source": [
    "# Chamando a função e passando dois parametros, o primeiro parametro será armazenado em arg1 e o segundo em *args que é uma tupla \n",
    "print_var_infor('Chocolate','Morango')"
   ]
  },
  {
   "cell_type": "code",
   "execution_count": null,
   "id": "f393a39c",
   "metadata": {},
   "outputs": [
    {
     "name": "stdout",
     "output_type": "stream",
     "text": [
      "O parâmetro passado em arg1 foi: Data\n",
      "O parâmetro passado em args foi: Science\n",
      "O parâmetro passado em args foi: Academy\n",
      "O parâmetro passado em args foi: Show\n"
     ]
    }
   ],
   "source": [
    "# Chamando a função e passando três parametros, o primeiro parametro será armazendo em arg1 e o segundo e o terceiro em *args que é uma tupla \n",
    "print_var_infor('Data','Science', 'Academy', 'Show')"
   ]
  },
  {
   "cell_type": "markdown",
   "id": "f65deb16",
   "metadata": {},
   "source": [
    "### Escopo de variável - local e global"
   ]
  },
  {
   "cell_type": "code",
   "execution_count": 1,
   "id": "018871b4",
   "metadata": {},
   "outputs": [],
   "source": [
    "# Variável global\n",
    "var_global = 10 # esta é uma variável global\n",
    "\n",
    "def multiplica_numeros(num1, num2):\n",
    "    var_global = num1 * num2 # esta é uma variavel local\n",
    "    print(var_global)"
   ]
  },
  {
   "cell_type": "code",
   "execution_count": 2,
   "id": "bbfc25ee",
   "metadata": {},
   "outputs": [
    {
     "name": "stdout",
     "output_type": "stream",
     "text": [
      "125\n"
     ]
    }
   ],
   "source": [
    "multiplica_numeros(5, 25)"
   ]
  },
  {
   "cell_type": "code",
   "execution_count": 3,
   "id": "5cdee279",
   "metadata": {},
   "outputs": [
    {
     "name": "stdout",
     "output_type": "stream",
     "text": [
      "10\n"
     ]
    }
   ],
   "source": [
    "print(var_global)"
   ]
  },
  {
   "cell_type": "code",
   "execution_count": 4,
   "id": "25990d90",
   "metadata": {},
   "outputs": [],
   "source": [
    "# Variável global\n",
    "var_global = 10 # esta é uma variável global\n",
    "\n",
    "def multiplica_numeros(num1, num2):\n",
    "    var_local = num1 * num2 # esta é uma variavel local\n",
    "    print(var_local)"
   ]
  },
  {
   "cell_type": "code",
   "execution_count": 5,
   "id": "caa2da8b",
   "metadata": {},
   "outputs": [
    {
     "name": "stdout",
     "output_type": "stream",
     "text": [
      "125\n"
     ]
    }
   ],
   "source": [
    "multiplica_numeros(5, 25)"
   ]
  },
  {
   "cell_type": "code",
   "execution_count": null,
   "id": "2246c5c3",
   "metadata": {},
   "outputs": [
    {
     "ename": "NameError",
     "evalue": "name 'var_local' is not defined",
     "output_type": "error",
     "traceback": [
      "\u001b[31m---------------------------------------------------------------------------\u001b[39m",
      "\u001b[31mNameError\u001b[39m                                 Traceback (most recent call last)",
      "\u001b[36mCell\u001b[39m\u001b[36m \u001b[39m\u001b[32mIn[6]\u001b[39m\u001b[32m, line 1\u001b[39m\n\u001b[32m----> \u001b[39m\u001b[32m1\u001b[39m \u001b[38;5;28mprint\u001b[39m(\u001b[43mvar_local\u001b[49m)\n",
      "\u001b[31mNameError\u001b[39m: name 'var_local' is not defined"
     ]
    }
   ],
   "source": [
    "# Variável local só pode ser usada dentro do escopo da função\n",
    "\n",
    "print(var_local)"
   ]
  },
  {
   "cell_type": "markdown",
   "id": "42b958d3",
   "metadata": {},
   "source": [
    "### Funções Built-in"
   ]
  },
  {
   "cell_type": "code",
   "execution_count": 7,
   "id": "c8e22933",
   "metadata": {},
   "outputs": [
    {
     "data": {
      "text/plain": [
       "56"
      ]
     },
     "execution_count": 7,
     "metadata": {},
     "output_type": "execute_result"
    }
   ],
   "source": [
    "# Valor absoluto\n",
    "\n",
    "abs(-56)"
   ]
  },
  {
   "cell_type": "code",
   "execution_count": 8,
   "id": "9e2a43c3",
   "metadata": {},
   "outputs": [
    {
     "data": {
      "text/plain": [
       "23"
      ]
     },
     "execution_count": 8,
     "metadata": {},
     "output_type": "execute_result"
    }
   ],
   "source": [
    "abs(23)"
   ]
  },
  {
   "cell_type": "code",
   "execution_count": 9,
   "id": "4958d666",
   "metadata": {},
   "outputs": [
    {
     "data": {
      "text/plain": [
       "False"
      ]
     },
     "execution_count": 9,
     "metadata": {},
     "output_type": "execute_result"
    }
   ],
   "source": [
    "# Valor booleano\n",
    "\n",
    "bool(0)"
   ]
  },
  {
   "cell_type": "code",
   "execution_count": 10,
   "id": "8bb92cde",
   "metadata": {},
   "outputs": [
    {
     "data": {
      "text/plain": [
       "True"
      ]
     },
     "execution_count": 10,
     "metadata": {},
     "output_type": "execute_result"
    }
   ],
   "source": [
    "bool(1)"
   ]
  },
  {
   "cell_type": "code",
   "execution_count": 11,
   "id": "1ef78641",
   "metadata": {},
   "outputs": [
    {
     "data": {
      "text/plain": [
       "1"
      ]
     },
     "execution_count": 11,
     "metadata": {},
     "output_type": "execute_result"
    }
   ],
   "source": [
    "# Retornando um valor inteiro\n",
    "\n",
    "int(1.3)"
   ]
  },
  {
   "cell_type": "code",
   "execution_count": 12,
   "id": "7c0bfd80",
   "metadata": {},
   "outputs": [
    {
     "data": {
      "text/plain": [
       "'13'"
      ]
     },
     "execution_count": 12,
     "metadata": {},
     "output_type": "execute_result"
    }
   ],
   "source": [
    "# Retornando uma string\n",
    "\n",
    "str(13)"
   ]
  },
  {
   "cell_type": "code",
   "execution_count": 13,
   "id": "560450c8",
   "metadata": {},
   "outputs": [
    {
     "data": {
      "text/plain": [
       "5.0"
      ]
     },
     "execution_count": 13,
     "metadata": {},
     "output_type": "execute_result"
    }
   ],
   "source": [
    "# Retornando um float\n",
    "\n",
    "float(5)"
   ]
  },
  {
   "cell_type": "code",
   "execution_count": 14,
   "id": "ba9e29c5",
   "metadata": {},
   "outputs": [
    {
     "ename": "TypeError",
     "evalue": "'>' not supported between instances of 'str' and 'int'",
     "output_type": "error",
     "traceback": [
      "\u001b[31m---------------------------------------------------------------------------\u001b[39m",
      "\u001b[31mTypeError\u001b[39m                                 Traceback (most recent call last)",
      "\u001b[36mCell\u001b[39m\u001b[36m \u001b[39m\u001b[32mIn[14]\u001b[39m\u001b[32m, line 5\u001b[39m\n\u001b[32m      1\u001b[39m \u001b[38;5;66;03m# Erro ao executar por causa da conversão\u001b[39;00m\n\u001b[32m      3\u001b[39m idade = \u001b[38;5;28mstr\u001b[39m(\u001b[38;5;28minput\u001b[39m(\u001b[33m'\u001b[39m\u001b[33mDigite a sua idade.: \u001b[39m\u001b[33m'\u001b[39m))\n\u001b[32m----> \u001b[39m\u001b[32m5\u001b[39m \u001b[38;5;28;01mif\u001b[39;00m (\u001b[43midade\u001b[49m\u001b[43m \u001b[49m\u001b[43m>\u001b[49m\u001b[43m \u001b[49m\u001b[32;43m13\u001b[39;49m):\n\u001b[32m      6\u001b[39m     \u001b[38;5;28mprint\u001b[39m(\u001b[33m'\u001b[39m\u001b[33mVocê pode acessar redes sociais sem supervição!\u001b[39m\u001b[33m'\u001b[39m)\n\u001b[32m      7\u001b[39m \u001b[38;5;28;01melse\u001b[39;00m:\n",
      "\u001b[31mTypeError\u001b[39m: '>' not supported between instances of 'str' and 'int'"
     ]
    }
   ],
   "source": [
    "# Erro ao executar por causa da conversão\n",
    "\n",
    "idade = str(input('Digite a sua idade.: '))\n",
    "\n",
    "if (idade > 13):\n",
    "    print('Você pode acessar redes sociais sem supervição!')\n",
    "else:\n",
    "    print('Seus pais não deveriam deixar você acessar as redes sociais sem supervisção!')"
   ]
  },
  {
   "cell_type": "code",
   "execution_count": 15,
   "id": "3a87818b",
   "metadata": {},
   "outputs": [
    {
     "name": "stdout",
     "output_type": "stream",
     "text": [
      "Seus pais não deveriam deixar você acessar as redes sociais sem supervisção!\n"
     ]
    }
   ],
   "source": [
    "# Usando a função int() para converter o valor digitado do tipo string para inteiro\n",
    "\n",
    "idade = int(input('Digite a sua idade.: '))\n",
    "\n",
    "if (idade > 13):\n",
    "    print('Você pode acessar redes sociais sem supervição!')\n",
    "else:\n",
    "    print('Seus pais não deveriam deixar você acessar as redes sociais sem supervisção!')"
   ]
  },
  {
   "cell_type": "code",
   "execution_count": 16,
   "id": "68803972",
   "metadata": {},
   "outputs": [
    {
     "data": {
      "text/plain": [
       "26"
      ]
     },
     "execution_count": 16,
     "metadata": {},
     "output_type": "execute_result"
    }
   ],
   "source": [
    "# Convertendo uma string para inteiro\n",
    "\n",
    "int('26')"
   ]
  },
  {
   "cell_type": "code",
   "execution_count": 17,
   "id": "a24e0211",
   "metadata": {},
   "outputs": [
    {
     "data": {
      "text/plain": [
       "123.456"
      ]
     },
     "execution_count": 17,
     "metadata": {},
     "output_type": "execute_result"
    }
   ],
   "source": [
    "# Convertendo uma string para float \n",
    "\n",
    "float('123.456')"
   ]
  },
  {
   "cell_type": "code",
   "execution_count": 23,
   "id": "59719fbe",
   "metadata": {},
   "outputs": [
    {
     "ename": "ValueError",
     "evalue": "could not convert string to float: '123.A456'",
     "output_type": "error",
     "traceback": [
      "\u001b[31m---------------------------------------------------------------------------\u001b[39m",
      "\u001b[31mValueError\u001b[39m                                Traceback (most recent call last)",
      "\u001b[36mCell\u001b[39m\u001b[36m \u001b[39m\u001b[32mIn[23]\u001b[39m\u001b[32m, line 1\u001b[39m\n\u001b[32m----> \u001b[39m\u001b[32m1\u001b[39m \u001b[38;5;28;43mfloat\u001b[39;49m\u001b[43m(\u001b[49m\u001b[33;43m'\u001b[39;49m\u001b[33;43m123.A456\u001b[39;49m\u001b[33;43m'\u001b[39;49m\u001b[43m)\u001b[49m\n",
      "\u001b[31mValueError\u001b[39m: could not convert string to float: '123.A456'"
     ]
    }
   ],
   "source": [
    "float('123.A456')"
   ]
  },
  {
   "cell_type": "code",
   "execution_count": 18,
   "id": "d7b09d04",
   "metadata": {},
   "outputs": [
    {
     "data": {
      "text/plain": [
       "'14'"
      ]
     },
     "execution_count": 18,
     "metadata": {},
     "output_type": "execute_result"
    }
   ],
   "source": [
    "# Convertendo um inteiro para string\n",
    "\n",
    "str(14)"
   ]
  },
  {
   "cell_type": "code",
   "execution_count": 19,
   "id": "456c733b",
   "metadata": {},
   "outputs": [
    {
     "data": {
      "text/plain": [
       "4"
      ]
     },
     "execution_count": 19,
     "metadata": {},
     "output_type": "execute_result"
    }
   ],
   "source": [
    "# Usando a função len para verificar o tamanho da lista\n",
    "\n",
    "len([1, 2, 3, 4])"
   ]
  },
  {
   "cell_type": "code",
   "execution_count": null,
   "id": "b54fe7bd",
   "metadata": {},
   "outputs": [],
   "source": [
    "# Convertendo uma lista em array\n",
    "\n",
    "array = [1, 2, 3]"
   ]
  },
  {
   "cell_type": "code",
   "execution_count": 21,
   "id": "e4b0c058",
   "metadata": {},
   "outputs": [
    {
     "data": {
      "text/plain": [
       "3"
      ]
     },
     "execution_count": 21,
     "metadata": {},
     "output_type": "execute_result"
    }
   ],
   "source": [
    "# Verificando com a função max() qual é o maior valor do array\n",
    "\n",
    "max(array)"
   ]
  },
  {
   "cell_type": "code",
   "execution_count": 22,
   "id": "8865717b",
   "metadata": {},
   "outputs": [
    {
     "data": {
      "text/plain": [
       "1"
      ]
     },
     "execution_count": 22,
     "metadata": {},
     "output_type": "execute_result"
    }
   ],
   "source": [
    "# Verificando com a função min() qual é o menor valor do array\n",
    "\n",
    "min(array)"
   ]
  },
  {
   "cell_type": "code",
   "execution_count": 24,
   "id": "540e670a",
   "metadata": {},
   "outputs": [],
   "source": [
    "list1 = [16, 23, 44, 75]"
   ]
  },
  {
   "cell_type": "code",
   "execution_count": 25,
   "id": "1f0bd552",
   "metadata": {},
   "outputs": [
    {
     "data": {
      "text/plain": [
       "158"
      ]
     },
     "execution_count": 25,
     "metadata": {},
     "output_type": "execute_result"
    }
   ],
   "source": [
    "sum(list1)"
   ]
  },
  {
   "cell_type": "markdown",
   "id": "08d07e0f",
   "metadata": {},
   "source": [
    "### Criando funções usando outras funções"
   ]
  },
  {
   "cell_type": "code",
   "execution_count": 1,
   "id": "4d60bc78",
   "metadata": {},
   "outputs": [],
   "source": [
    "import math\n",
    "\n",
    "def num_primo(num):\n",
    "    if (num % 2 == 0) and (num > 2):\n",
    "        return 'Este número não é primo'\n",
    "    for i in range(3, int(math.sqrt(num)) + 1, 2):\n",
    "        if (num % i == 0):\n",
    "            return 'Este número não é primo'\n",
    "    return 'Este número é primo'"
   ]
  },
  {
   "cell_type": "code",
   "execution_count": 2,
   "id": "b6160207",
   "metadata": {},
   "outputs": [
    {
     "data": {
      "text/plain": [
       "'Este número é primo'"
      ]
     },
     "execution_count": 2,
     "metadata": {},
     "output_type": "execute_result"
    }
   ],
   "source": [
    "num_primo(541)"
   ]
  },
  {
   "cell_type": "code",
   "execution_count": 3,
   "id": "100cd115",
   "metadata": {},
   "outputs": [
    {
     "data": {
      "text/plain": [
       "'Este número é primo'"
      ]
     },
     "execution_count": 3,
     "metadata": {},
     "output_type": "execute_result"
    }
   ],
   "source": [
    "num_primo(2)"
   ]
  },
  {
   "cell_type": "code",
   "execution_count": 4,
   "id": "228ebc48",
   "metadata": {},
   "outputs": [],
   "source": [
    "caixa_baixa = 'Este texto deveria estar todo em lowercase'"
   ]
  },
  {
   "cell_type": "code",
   "execution_count": 5,
   "id": "ba2e6dc5",
   "metadata": {},
   "outputs": [],
   "source": [
    "def lower_case(text):\n",
    "    return text.lower()"
   ]
  },
  {
   "cell_type": "code",
   "execution_count": 6,
   "id": "2f5ee7c4",
   "metadata": {},
   "outputs": [],
   "source": [
    "lower_case_string = lower_case(caixa_baixa)"
   ]
  },
  {
   "cell_type": "code",
   "execution_count": 7,
   "id": "f7677af0",
   "metadata": {},
   "outputs": [
    {
     "data": {
      "text/plain": [
       "'este texto deveria estar todo em lowercase'"
      ]
     },
     "execution_count": 7,
     "metadata": {},
     "output_type": "execute_result"
    }
   ],
   "source": [
    "lower_case_string"
   ]
  },
  {
   "cell_type": "markdown",
   "id": "75b6100c",
   "metadata": {},
   "source": [
    "### Fazendo split dos dados"
   ]
  },
  {
   "cell_type": "code",
   "execution_count": null,
   "id": "8b4b9c6a",
   "metadata": {},
   "outputs": [],
   "source": [
    "# Fazendo split dos dados\n",
    "\n",
    "def split_string_palavras(text):\n",
    "    return text.split(\" \") # quando encontrar o espaço faz a divisão"
   ]
  },
  {
   "cell_type": "code",
   "execution_count": 9,
   "id": "730deabb",
   "metadata": {},
   "outputs": [],
   "source": [
    "texto = 'Esta função será bastante útil para separar grandes volumes de dados.'"
   ]
  },
  {
   "cell_type": "code",
   "execution_count": 10,
   "id": "34524377",
   "metadata": {},
   "outputs": [
    {
     "name": "stdout",
     "output_type": "stream",
     "text": [
      "['Esta', 'função', 'será', 'bastante', 'útil', 'para', 'separar', 'grandes', 'volumes', 'de', 'dados.']\n"
     ]
    }
   ],
   "source": [
    "# Isso divide a string em uma lista de palavras\n",
    "\n",
    "print(split_string_palavras(texto))"
   ]
  },
  {
   "cell_type": "code",
   "execution_count": 14,
   "id": "b44d07d5",
   "metadata": {},
   "outputs": [],
   "source": [
    "# Podemos atribuir o output de uma função para uma variável\n",
    "\n",
    "token = split_string_palavras(texto)"
   ]
  },
  {
   "cell_type": "code",
   "execution_count": null,
   "id": "1fc17af8",
   "metadata": {},
   "outputs": [
    {
     "data": {
      "text/plain": [
       "['Esta',\n",
       " 'função',\n",
       " 'será',\n",
       " 'bastante',\n",
       " 'útil',\n",
       " 'para',\n",
       " 'separar',\n",
       " 'grandes',\n",
       " 'volumes',\n",
       " 'de',\n",
       " 'dados.']"
      ]
     },
     "execution_count": 12,
     "metadata": {},
     "output_type": "execute_result"
    }
   ],
   "source": [
    "token"
   ]
  },
  {
   "cell_type": "code",
   "execution_count": 19,
   "id": "050fbe07",
   "metadata": {},
   "outputs": [],
   "source": [
    "# Fazendo split dos dados\n",
    "\n",
    "def split_string_letras(text):\n",
    "    texto = text.upper()\n",
    "    for letra in texto:\n",
    "        print(letra)"
   ]
  },
  {
   "cell_type": "code",
   "execution_count": 20,
   "id": "d5801d30",
   "metadata": {},
   "outputs": [
    {
     "name": "stdout",
     "output_type": "stream",
     "text": [
      "E\n",
      "S\n",
      "T\n",
      "A\n",
      " \n",
      "F\n",
      "U\n",
      "N\n",
      "Ç\n",
      "Ã\n",
      "O\n",
      " \n",
      "S\n",
      "E\n",
      "R\n",
      "Á\n",
      " \n",
      "B\n",
      "A\n",
      "S\n",
      "T\n",
      "A\n",
      "N\n",
      "T\n",
      "E\n",
      " \n",
      "Ú\n",
      "T\n",
      "I\n",
      "L\n",
      " \n",
      "P\n",
      "A\n",
      "R\n",
      "A\n",
      " \n",
      "S\n",
      "E\n",
      "P\n",
      "A\n",
      "R\n",
      "A\n",
      "R\n",
      " \n",
      "G\n",
      "R\n",
      "A\n",
      "N\n",
      "D\n",
      "E\n",
      "S\n",
      " \n",
      "V\n",
      "O\n",
      "L\n",
      "U\n",
      "M\n",
      "E\n",
      "S\n",
      " \n",
      "D\n",
      "E\n",
      " \n",
      "D\n",
      "A\n",
      "D\n",
      "O\n",
      "S\n",
      ".\n"
     ]
    }
   ],
   "source": [
    "split_string_letras(texto)"
   ]
  },
  {
   "cell_type": "markdown",
   "id": "ff02920e",
   "metadata": {},
   "source": [
    "### Expressão Lambda"
   ]
  },
  {
   "cell_type": "code",
   "execution_count": 7,
   "id": "60d9419c",
   "metadata": {},
   "outputs": [],
   "source": [
    "# Definindo uma função em 3 linhas de código\n",
    "\n",
    "def potencia(num):\n",
    "    resultado  = num ** 2\n",
    "    return resultado\n",
    "    "
   ]
  },
  {
   "cell_type": "code",
   "execution_count": 8,
   "id": "f77e52e6",
   "metadata": {},
   "outputs": [
    {
     "data": {
      "text/plain": [
       "25"
      ]
     },
     "execution_count": 8,
     "metadata": {},
     "output_type": "execute_result"
    }
   ],
   "source": [
    "potencia(5)"
   ]
  },
  {
   "cell_type": "code",
   "execution_count": 9,
   "id": "8d9a9f1d",
   "metadata": {},
   "outputs": [],
   "source": [
    "# Definindo uma função em 2 linhas de código\n",
    "\n",
    "def potencia(num):\n",
    "    return num ** 2"
   ]
  },
  {
   "cell_type": "code",
   "execution_count": 11,
   "id": "a63697d3",
   "metadata": {},
   "outputs": [
    {
     "data": {
      "text/plain": [
       "25"
      ]
     },
     "execution_count": 11,
     "metadata": {},
     "output_type": "execute_result"
    }
   ],
   "source": [
    "potencia(5)"
   ]
  },
  {
   "cell_type": "code",
   "execution_count": null,
   "id": "91379704",
   "metadata": {},
   "outputs": [],
   "source": [
    "# Definindo uma funão em 1 linha de códgio\n",
    "\n",
    "def potencia(num): return num ** 2"
   ]
  },
  {
   "cell_type": "code",
   "execution_count": 14,
   "id": "60e90566",
   "metadata": {},
   "outputs": [
    {
     "data": {
      "text/plain": [
       "25"
      ]
     },
     "execution_count": 14,
     "metadata": {},
     "output_type": "execute_result"
    }
   ],
   "source": [
    "potencia(5)"
   ]
  },
  {
   "cell_type": "code",
   "execution_count": 15,
   "id": "04b204b9",
   "metadata": {},
   "outputs": [],
   "source": [
    "# Definindo  um expressão Lambda (função anônima)\n",
    "\n",
    "potencia = lambda num: num ** 2"
   ]
  },
  {
   "cell_type": "code",
   "execution_count": 16,
   "id": "ac73a10a",
   "metadata": {},
   "outputs": [
    {
     "data": {
      "text/plain": [
       "25"
      ]
     },
     "execution_count": 16,
     "metadata": {},
     "output_type": "execute_result"
    }
   ],
   "source": [
    "potencia(5)"
   ]
  },
  {
   "cell_type": "code",
   "execution_count": 17,
   "id": "b9d3a02f",
   "metadata": {},
   "outputs": [],
   "source": [
    "# Lembre: Operadores de comparação retornam boolean: True or False\n",
    "\n",
    "par = lambda x: x % 2 == 0"
   ]
  },
  {
   "cell_type": "code",
   "execution_count": 18,
   "id": "2ac054dc",
   "metadata": {},
   "outputs": [
    {
     "data": {
      "text/plain": [
       "False"
      ]
     },
     "execution_count": 18,
     "metadata": {},
     "output_type": "execute_result"
    }
   ],
   "source": [
    "par(3)"
   ]
  },
  {
   "cell_type": "code",
   "execution_count": 19,
   "id": "4075e96c",
   "metadata": {},
   "outputs": [
    {
     "data": {
      "text/plain": [
       "True"
      ]
     },
     "execution_count": 19,
     "metadata": {},
     "output_type": "execute_result"
    }
   ],
   "source": [
    "par(4)"
   ]
  },
  {
   "cell_type": "code",
   "execution_count": 21,
   "id": "fdc54e77",
   "metadata": {},
   "outputs": [],
   "source": [
    "first = lambda s: s[0]"
   ]
  },
  {
   "cell_type": "code",
   "execution_count": 22,
   "id": "ad6de0f9",
   "metadata": {},
   "outputs": [
    {
     "data": {
      "text/plain": [
       "'P'"
      ]
     },
     "execution_count": 22,
     "metadata": {},
     "output_type": "execute_result"
    }
   ],
   "source": [
    "first('Python')"
   ]
  },
  {
   "cell_type": "code",
   "execution_count": 23,
   "id": "d73cbeb7",
   "metadata": {},
   "outputs": [],
   "source": [
    "reverso = lambda s: s[:: -1]"
   ]
  },
  {
   "cell_type": "code",
   "execution_count": 24,
   "id": "c87e0b81",
   "metadata": {},
   "outputs": [
    {
     "data": {
      "text/plain": [
       "'nohtyP'"
      ]
     },
     "execution_count": 24,
     "metadata": {},
     "output_type": "execute_result"
    }
   ],
   "source": [
    "reverso('Python')"
   ]
  },
  {
   "cell_type": "code",
   "execution_count": 29,
   "id": "f68d8c3e",
   "metadata": {},
   "outputs": [],
   "source": [
    "addnum = lambda x, y : x + y"
   ]
  },
  {
   "cell_type": "code",
   "execution_count": 30,
   "id": "2443f7eb",
   "metadata": {},
   "outputs": [
    {
     "data": {
      "text/plain": [
       "5"
      ]
     },
     "execution_count": 30,
     "metadata": {},
     "output_type": "execute_result"
    }
   ],
   "source": [
    "addnum(2, 3)"
   ]
  },
  {
   "cell_type": "markdown",
   "id": "09e3ab94",
   "metadata": {},
   "source": [
    "### List comprehension / Dictionary comprehension"
   ]
  },
  {
   "cell_type": "code",
   "execution_count": null,
   "id": "9eff7a8f",
   "metadata": {},
   "outputs": [
    {
     "data": {
      "text/plain": [
       "[0, 1, 2, 3, 4, 5, 6, 7, 8, 9]"
      ]
     },
     "execution_count": 32,
     "metadata": {},
     "output_type": "execute_result"
    }
   ],
   "source": [
    "# List comprehension que imprime os números até 10\n",
    "\n",
    "[x for x in range(10)] # Para cada valor de x dentro da lista de elementos, retorne x  /  retorne x para cada valor de x na lista de elementos"
   ]
  },
  {
   "cell_type": "code",
   "execution_count": 33,
   "id": "688f7599",
   "metadata": {},
   "outputs": [],
   "source": [
    "# List comprehension que imprime os números até 10 e grava em uma lista \n",
    "\n",
    "lista_numeros = [x for x in range(10)]"
   ]
  },
  {
   "cell_type": "code",
   "execution_count": 34,
   "id": "d8d6375c",
   "metadata": {},
   "outputs": [
    {
     "name": "stdout",
     "output_type": "stream",
     "text": [
      "[0, 1, 2, 3, 4, 5, 6, 7, 8, 9]\n"
     ]
    }
   ],
   "source": [
    "print(lista_numeros)"
   ]
  },
  {
   "cell_type": "code",
   "execution_count": 35,
   "id": "bc1d8c76",
   "metadata": {},
   "outputs": [
    {
     "name": "stdout",
     "output_type": "stream",
     "text": [
      "[0, 1, 2, 3, 4]\n"
     ]
    }
   ],
   "source": [
    "# List comprehension que imprime os números menores que 5 em um intervalo de 1 a 10\n",
    "\n",
    "lista_numeros = [x for x in range(10) if x < 5]\n",
    "print(lista_numeros)"
   ]
  },
  {
   "cell_type": "code",
   "execution_count": 1,
   "id": "fcf42cca",
   "metadata": {},
   "outputs": [],
   "source": [
    "lista_frutas = ['banana', 'abacate', 'melancia', 'cereja', 'manga']\n",
    "\n",
    "nova_lista = []"
   ]
  },
  {
   "cell_type": "code",
   "execution_count": 2,
   "id": "41b1da33",
   "metadata": {},
   "outputs": [
    {
     "name": "stdout",
     "output_type": "stream",
     "text": [
      "['melancia', 'manga']\n"
     ]
    }
   ],
   "source": [
    "# Loop tradicional para buscar as palavras com letra 'm'\n",
    "\n",
    "for i in lista_frutas:\n",
    "    if 'm' in i:\n",
    "        nova_lista.append(i)\n",
    "\n",
    "print(nova_lista)\n"
   ]
  },
  {
   "cell_type": "code",
   "execution_count": 5,
   "id": "f3225c10",
   "metadata": {},
   "outputs": [
    {
     "name": "stdout",
     "output_type": "stream",
     "text": [
      "['melancia', 'manga']\n"
     ]
    }
   ],
   "source": [
    "\n",
    "\n",
    "nova_lista = [x for x in lista_frutas if 'm' in x]\n",
    "print(nova_lista)"
   ]
  },
  {
   "cell_type": "code",
   "execution_count": null,
   "id": "5ae83b89",
   "metadata": {},
   "outputs": [
    {
     "name": "stdout",
     "output_type": "stream",
     "text": [
      "{'Bob': 68, 'Michel': 84, 'Zico': 57, 'Ana': 93}\n"
     ]
    }
   ],
   "source": [
    "# Dictionary comprehension\n",
    "\n",
    "# Dicionário de alunos e notas\n",
    "dict_alunos = {'Bob': 68, 'Michel': 84, 'Zico': 57, 'Ana': 93}\n",
    "\n",
    "# Criamos um novo dicionário imprimindo os pares de chave:valor\n",
    "dict_alunos_status = {k:v for (k, v) in dict_alunos.items()}# retornar chave e valor para cada chave e valor retornado dos items do dicionarios \n",
    "print(dict_alunos_status)\n",
    "\n"
   ]
  },
  {
   "cell_type": "code",
   "execution_count": 7,
   "id": "14d052c6",
   "metadata": {},
   "outputs": [
    {
     "name": "stdout",
     "output_type": "stream",
     "text": [
      "{'Bob': 'Reprovado', 'Michel': 'Aprovado', 'Zico': 'Reprovado', 'Ana': 'Aprovado'}\n"
     ]
    }
   ],
   "source": [
    "# Dictionary comprehension\n",
    "\n",
    "# Dicionário de alunos e notas\n",
    "dict_alunos = {'Bob': 68, 'Michel': 84, 'Zico': 57, 'Ana': 93}\n",
    "\n",
    "# Criamos um novo dicionário com o status: nota maior que 70, aprovado, senão, reprovado\n",
    "dict_alunos_status = {k: ('Aprovado' if v > 70 else 'Reprovado') for (k, v) in dict_alunos.items()}\n",
    "print(dict_alunos_status)"
   ]
  },
  {
   "cell_type": "code",
   "execution_count": null,
   "id": "25e3a896",
   "metadata": {},
   "outputs": [],
   "source": []
  }
 ],
 "metadata": {
  "kernelspec": {
   "display_name": ".venv",
   "language": "python",
   "name": "python3"
  },
  "language_info": {
   "codemirror_mode": {
    "name": "ipython",
    "version": 3
   },
   "file_extension": ".py",
   "mimetype": "text/x-python",
   "name": "python",
   "nbconvert_exporter": "python",
   "pygments_lexer": "ipython3",
   "version": "3.12.1"
  }
 },
 "nbformat": 4,
 "nbformat_minor": 5
}
