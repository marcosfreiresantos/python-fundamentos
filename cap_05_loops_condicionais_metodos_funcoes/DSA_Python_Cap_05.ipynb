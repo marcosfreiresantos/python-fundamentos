{
 "cells": [
  {
   "cell_type": "markdown",
   "id": "97d671ef",
   "metadata": {},
   "source": [
    "### Condicionais"
   ]
  },
  {
   "cell_type": "code",
   "execution_count": 1,
   "id": "9eb4b234",
   "metadata": {},
   "outputs": [
    {
     "name": "stdout",
     "output_type": "stream",
     "text": [
      "A sentença é verdadeira!\n"
     ]
    }
   ],
   "source": [
    "# Condicional if\n",
    "\n",
    "if 5 > 2:\n",
    "    print('A sentença é verdadeira!')\n"
   ]
  },
  {
   "cell_type": "code",
   "execution_count": 2,
   "id": "30848732",
   "metadata": {},
   "outputs": [
    {
     "name": "stdout",
     "output_type": "stream",
     "text": [
      "A sentença é falsa!\n"
     ]
    }
   ],
   "source": [
    "# Condicional if...else\n",
    "\n",
    "if 5 < 2:\n",
    "    print('A sentença é verdadeira!')\n",
    "else:\n",
    "    print('A sentença é falsa!')"
   ]
  },
  {
   "cell_type": "code",
   "execution_count": 3,
   "id": "66ac77f1",
   "metadata": {},
   "outputs": [
    {
     "name": "stdout",
     "output_type": "stream",
     "text": [
      "Hoje vai chover\n"
     ]
    }
   ],
   "source": [
    "# Condicional if ... else com variável\n",
    "\n",
    "dia = 'terca'\n",
    " \n",
    "if dia == 'segunda':\n",
    "    print('Fará sol!')\n",
    "else:\n",
    "    print('Hoje vai chover')"
   ]
  },
  {
   "cell_type": "code",
   "execution_count": 4,
   "id": "206356ba",
   "metadata": {},
   "outputs": [
    {
     "name": "stdout",
     "output_type": "stream",
     "text": [
      "Vai chover!\n"
     ]
    }
   ],
   "source": [
    "# Podemos usar o operador elif para validar mais de uma condição\n",
    "\n",
    "if dia == 'segunda':\n",
    "    print('Fará sol!')\n",
    "elif dia == 'terca':\n",
    "    print('Vai chover!')\n",
    "else:\n",
    "    print('Sem previsão do tempo para o dia relacionado')"
   ]
  },
  {
   "cell_type": "markdown",
   "id": "d2a494a3",
   "metadata": {},
   "source": [
    "### Operadores Relacionais"
   ]
  },
  {
   "cell_type": "code",
   "execution_count": 5,
   "id": "ef8313b5",
   "metadata": {},
   "outputs": [
    {
     "data": {
      "text/plain": [
       "True"
      ]
     },
     "execution_count": 5,
     "metadata": {},
     "output_type": "execute_result"
    }
   ],
   "source": [
    "6 > 3"
   ]
  },
  {
   "cell_type": "code",
   "execution_count": 6,
   "id": "43fc3fce",
   "metadata": {},
   "outputs": [
    {
     "data": {
      "text/plain": [
       "False"
      ]
     },
     "execution_count": 6,
     "metadata": {},
     "output_type": "execute_result"
    }
   ],
   "source": [
    "3 > 7 "
   ]
  },
  {
   "cell_type": "code",
   "execution_count": 7,
   "id": "af151ad8",
   "metadata": {},
   "outputs": [
    {
     "data": {
      "text/plain": [
       "True"
      ]
     },
     "execution_count": 7,
     "metadata": {},
     "output_type": "execute_result"
    }
   ],
   "source": [
    "4 < 8"
   ]
  },
  {
   "cell_type": "code",
   "execution_count": 8,
   "id": "b4727c81",
   "metadata": {},
   "outputs": [
    {
     "data": {
      "text/plain": [
       "True"
      ]
     },
     "execution_count": 8,
     "metadata": {},
     "output_type": "execute_result"
    }
   ],
   "source": [
    "4 >= 4"
   ]
  },
  {
   "cell_type": "code",
   "execution_count": 9,
   "id": "0b9a3125",
   "metadata": {},
   "outputs": [
    {
     "name": "stdout",
     "output_type": "stream",
     "text": [
      "Testando Python\n"
     ]
    }
   ],
   "source": [
    "if 5 == 5:\n",
    "    print('Testando Python')"
   ]
  },
  {
   "cell_type": "code",
   "execution_count": 10,
   "id": "d43eac2d",
   "metadata": {},
   "outputs": [
    {
     "name": "stdout",
     "output_type": "stream",
     "text": [
      "Parece que python funciona!\n"
     ]
    }
   ],
   "source": [
    "if True:\n",
    "    print('Parece que python funciona!')"
   ]
  },
  {
   "cell_type": "code",
   "execution_count": 12,
   "id": "2941ac24",
   "metadata": {},
   "outputs": [
    {
     "ename": "SyntaxError",
     "evalue": "expected ':' (4037360433.py, line 3)",
     "output_type": "error",
     "traceback": [
      "  \u001b[36mCell\u001b[39m\u001b[36m \u001b[39m\u001b[32mIn[12]\u001b[39m\u001b[32m, line 3\u001b[39m\n\u001b[31m    \u001b[39m\u001b[31mif 4 > 3\u001b[39m\n            ^\n\u001b[31mSyntaxError\u001b[39m\u001b[31m:\u001b[39m expected ':'\n"
     ]
    }
   ],
   "source": [
    "# Atenção com a sintaxe\n",
    "\n",
    "if 4 > 3\n",
    "    print('Tudo funciona')"
   ]
  },
  {
   "cell_type": "code",
   "execution_count": 14,
   "id": "94ed2e53",
   "metadata": {},
   "outputs": [
    {
     "ename": "IndentationError",
     "evalue": "expected an indented block after 'if' statement on line 3 (2271111588.py, line 4)",
     "output_type": "error",
     "traceback": [
      "  \u001b[36mCell\u001b[39m\u001b[36m \u001b[39m\u001b[32mIn[14]\u001b[39m\u001b[32m, line 4\u001b[39m\n\u001b[31m    \u001b[39m\u001b[31mprint('Tudo funciona')\u001b[39m\n    ^\n\u001b[31mIndentationError\u001b[39m\u001b[31m:\u001b[39m expected an indented block after 'if' statement on line 3\n"
     ]
    }
   ],
   "source": [
    "# Atenção com a sintaxe\n",
    "\n",
    "if 4 > 3:\n",
    "print('Tudo funciona')"
   ]
  },
  {
   "cell_type": "markdown",
   "id": "1ee4c40f",
   "metadata": {},
   "source": [
    "### Condicionais Aninhadas"
   ]
  },
  {
   "cell_type": "code",
   "execution_count": null,
   "id": "1f895dfc",
   "metadata": {},
   "outputs": [
    {
     "name": "stdout",
     "output_type": "stream",
     "text": [
      "Você pode dirigir\n"
     ]
    }
   ],
   "source": [
    "idade = 18\n",
    "\n",
    "if idade > 17:\n",
    "    print('Você pode dirigir')"
   ]
  },
  {
   "cell_type": "code",
   "execution_count": 2,
   "id": "1e07ece1",
   "metadata": {},
   "outputs": [
    {
     "name": "stdout",
     "output_type": "stream",
     "text": [
      "Ok Bob, você está autorizado a entrar!\n"
     ]
    }
   ],
   "source": [
    "nome = 'Bob'\n",
    "\n",
    "if idade > 13:\n",
    "    if nome == 'Bob':\n",
    "        print('Ok Bob, você está autorizado a entrar!')\n",
    "    else:\n",
    "        print('Desculpe, mas você não pode entrar!')"
   ]
  },
  {
   "cell_type": "code",
   "execution_count": 6,
   "id": "587c0456",
   "metadata": {},
   "outputs": [
    {
     "name": "stdout",
     "output_type": "stream",
     "text": [
      "Ok bob, você está autorizado a entrar!\n"
     ]
    }
   ],
   "source": [
    "idade = 13\n",
    "nome = 'Bob'\n",
    "\n",
    "if idade >= 13 and nome.upper() == 'BOB':\n",
    "    print(\"Ok bob, você está autorizado a entrar!\")"
   ]
  },
  {
   "cell_type": "code",
   "execution_count": 7,
   "id": "ac131d0e",
   "metadata": {},
   "outputs": [
    {
     "name": "stdout",
     "output_type": "stream",
     "text": [
      "OK Bob, você está autorizado a entrar!\n"
     ]
    }
   ],
   "source": [
    "idade = 12\n",
    "nome = 'Bob'\n",
    "\n",
    "if (idade >= 13) or (nome.lower() == 'bob'):\n",
    "    print('OK Bob, você está autorizado a entrar!')"
   ]
  },
  {
   "cell_type": "markdown",
   "id": "71680cd0",
   "metadata": {},
   "source": [
    "### Operadores Lógicos"
   ]
  },
  {
   "cell_type": "code",
   "execution_count": 8,
   "id": "7c59a824",
   "metadata": {},
   "outputs": [
    {
     "name": "stdout",
     "output_type": "stream",
     "text": [
      "Você pode dirigir!\n"
     ]
    }
   ],
   "source": [
    "idade = 18\n",
    "nome = 'Bob'\n",
    "\n",
    "if (idade > 17):\n",
    "    print('Você pode dirigir!')"
   ]
  },
  {
   "cell_type": "code",
   "execution_count": 9,
   "id": "9fd4f2dd",
   "metadata": {},
   "outputs": [
    {
     "name": "stdout",
     "output_type": "stream",
     "text": [
      "Automatizado!\n"
     ]
    }
   ],
   "source": [
    "idade = 18\n",
    "\n",
    "if (idade > 17) and (nome == 'Bob'):\n",
    "    print('Automatizado!')"
   ]
  },
  {
   "cell_type": "markdown",
   "id": "81217eeb",
   "metadata": {},
   "source": [
    "<b>Os operadores lógicos funcionam assim:</b>\n",
    "\n",
    "Operador <b>\"and\"</b> -> Retorna True se ambas as declarações forem verdadeiras.\n",
    "\n",
    "Operador <b>\"or\"</b> ->  Retorna True se uma das declarações for verdadeira.\n",
    "\n",
    "Operador <b>\"not\"</b> -> Inverte o resultado, retorna False se o resultdo for Tue\n"
   ]
  },
  {
   "cell_type": "code",
   "execution_count": 10,
   "id": "7b32fd6f",
   "metadata": {},
   "outputs": [
    {
     "name": "stdout",
     "output_type": "stream",
     "text": [
      "Isso está sendo impresso porque as duas condições são verdadeiras!\n"
     ]
    }
   ],
   "source": [
    "# Operador and\n",
    "\n",
    "numero = 4\n",
    "\n",
    "if (numero > 2) and (numero % 2 == 0):\n",
    "    print('Isso está sendo impresso porque as duas condições são verdadeiras!')"
   ]
  },
  {
   "cell_type": "code",
   "execution_count": 12,
   "id": "6afcef9c",
   "metadata": {},
   "outputs": [
    {
     "name": "stdout",
     "output_type": "stream",
     "text": [
      "Isso está sendo impresso porque uma das duas codições é falsa\n"
     ]
    }
   ],
   "source": [
    "# Operador and\n",
    "\n",
    "numero = 4\n",
    "\n",
    "if (numero > 5) and (numero % 2 == 0):\n",
    "    print('Isso está sendo impresso porque as duas condições são verdadeiras!')\n",
    "else:\n",
    "    print('Isso está sendo impresso porque uma das duas codições é falsa')"
   ]
  },
  {
   "cell_type": "code",
   "execution_count": 13,
   "id": "3138c2ee",
   "metadata": {},
   "outputs": [
    {
     "name": "stdout",
     "output_type": "stream",
     "text": [
      "Isso está sendo impresso porque uma das duas condições é verdadeira!\n"
     ]
    }
   ],
   "source": [
    "# Operador or\n",
    "\n",
    "numero = 4\n",
    "\n",
    "if (numero > 5) or (numero % 2 == 0):\n",
    "    print('Isso está sendo impresso porque uma das duas condições é verdadeira!')"
   ]
  },
  {
   "cell_type": "code",
   "execution_count": 14,
   "id": "cd82045e",
   "metadata": {},
   "outputs": [
    {
     "name": "stdout",
     "output_type": "stream",
     "text": [
      "Isso está sendo impresso porque as duas condições são verdadeiras\"\n"
     ]
    }
   ],
   "source": [
    "# Operador not\n",
    "\n",
    "numero = 4\n",
    "\n",
    "if not(numero > 5) and (numero % 2 == 0):\n",
    "    print('Isso está sendo impresso porque as duas condições são verdadeiras\"')\n",
    "else:\n",
    "    print('Isso está sendo impresso porque uma das duas condições é falsa!')"
   ]
  },
  {
   "cell_type": "code",
   "execution_count": 15,
   "id": "f40ce96c",
   "metadata": {},
   "outputs": [
    {
     "name": "stdout",
     "output_type": "stream",
     "text": [
      "Isso está sendo impresso porque as duas primeiras condições são verdadeiras ou a terceira é verdadeira\n"
     ]
    }
   ],
   "source": [
    "# Operadores and, or e not\n",
    "\n",
    "numero = 4\n",
    "\n",
    "if (not(numero > 5) and (numero % 2 == 0)) or (numero == 4):\n",
    "    print('Isso está sendo impresso porque as duas primeiras condições são verdadeiras ou a terceira é verdadeira')"
   ]
  },
  {
   "cell_type": "code",
   "execution_count": 16,
   "id": "2fb0ea79",
   "metadata": {},
   "outputs": [
    {
     "name": "stdout",
     "output_type": "stream",
     "text": [
      "Você foi aprovado\n"
     ]
    }
   ],
   "source": [
    "# Exemplo com o uso de variáveis\n",
    "\n",
    "disciplina = 'Data Science'\n",
    "nota_final = 70\n",
    "\n",
    "if (disciplina.lower() == 'data science') and (nota_final >= 70):\n",
    "    print('Você foi aprovado')\n",
    "else:\n",
    "    print('Lamento, acho que você precisa estudar mais!')"
   ]
  },
  {
   "cell_type": "code",
   "execution_count": 19,
   "id": "1a912d96",
   "metadata": {},
   "outputs": [
    {
     "name": "stdout",
     "output_type": "stream",
     "text": [
      "Lamento, acho que você precisa estudar mais\n"
     ]
    }
   ],
   "source": [
    "# Usando mais de uma condição na cláusula if\n",
    "\n",
    "disciplina = 'Data Science'\n",
    "nota_final = 60\n",
    "\n",
    "if (disciplina.lower() == 'data science') and (nota_final >= 70):\n",
    "    print('Você foi aprovado!')\n",
    "else:\n",
    "    print('Lamento, acho que você precisa estudar mais')"
   ]
  },
  {
   "cell_type": "code",
   "execution_count": 25,
   "id": "f4760118",
   "metadata": {},
   "outputs": [
    {
     "name": "stdout",
     "output_type": "stream",
     "text": [
      "Você foi aprovado em data science com a média de 90.0\n"
     ]
    }
   ],
   "source": [
    "# Usando mais de uma condição na cláusula if\n",
    "\n",
    "disciplina = str(input('Informe a disciplina.: ')).strip().lower()\n",
    "nota_final = float(input('Informe a nota final.: '))\n",
    "semestre = str(input('Informe qual semestre está cursando.:'))\n",
    "\n",
    "if (disciplina == 'data science') and (nota_final >= 80) and (semestre != 1):\n",
    "    print(f'Você foi aprovado em {disciplina} com a média de {nota_final}')\n",
    "else:\n",
    "    print('Lamento, acho que você precisa estudar mais!')"
   ]
  }
 ],
 "metadata": {
  "kernelspec": {
   "display_name": ".venv",
   "language": "python",
   "name": "python3"
  },
  "language_info": {
   "codemirror_mode": {
    "name": "ipython",
    "version": 3
   },
   "file_extension": ".py",
   "mimetype": "text/x-python",
   "name": "python",
   "nbconvert_exporter": "python",
   "pygments_lexer": "ipython3",
   "version": "3.12.1"
  }
 },
 "nbformat": 4,
 "nbformat_minor": 5
}
