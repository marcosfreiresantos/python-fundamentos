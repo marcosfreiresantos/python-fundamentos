{
 "cells": [
  {
   "cell_type": "markdown",
   "id": "97d671ef",
   "metadata": {},
   "source": [
    "### Condicionais"
   ]
  },
  {
   "cell_type": "code",
   "execution_count": 1,
   "id": "9eb4b234",
   "metadata": {},
   "outputs": [
    {
     "name": "stdout",
     "output_type": "stream",
     "text": [
      "A sentença é verdadeira!\n"
     ]
    }
   ],
   "source": [
    "# Condicional if\n",
    "\n",
    "if 5 > 2:\n",
    "    print('A sentença é verdadeira!')\n"
   ]
  },
  {
   "cell_type": "code",
   "execution_count": 2,
   "id": "30848732",
   "metadata": {},
   "outputs": [
    {
     "name": "stdout",
     "output_type": "stream",
     "text": [
      "A sentença é falsa!\n"
     ]
    }
   ],
   "source": [
    "# Condicional if...else\n",
    "\n",
    "if 5 < 2:\n",
    "    print('A sentença é verdadeira!')\n",
    "else:\n",
    "    print('A sentença é falsa!')"
   ]
  },
  {
   "cell_type": "code",
   "execution_count": 3,
   "id": "66ac77f1",
   "metadata": {},
   "outputs": [
    {
     "name": "stdout",
     "output_type": "stream",
     "text": [
      "Hoje vai chover\n"
     ]
    }
   ],
   "source": [
    "# Condicional if ... else com variável\n",
    "\n",
    "dia = 'terca'\n",
    " \n",
    "if dia == 'segunda':\n",
    "    print('Fará sol!')\n",
    "else:\n",
    "    print('Hoje vai chover')"
   ]
  },
  {
   "cell_type": "code",
   "execution_count": 4,
   "id": "206356ba",
   "metadata": {},
   "outputs": [
    {
     "name": "stdout",
     "output_type": "stream",
     "text": [
      "Vai chover!\n"
     ]
    }
   ],
   "source": [
    "# Podemos usar o operador elif para validar mais de uma condição\n",
    "\n",
    "if dia == 'segunda':\n",
    "    print('Fará sol!')\n",
    "elif dia == 'terca':\n",
    "    print('Vai chover!')\n",
    "else:\n",
    "    print('Sem previsão do tempo para o dia relacionado')"
   ]
  },
  {
   "cell_type": "code",
   "execution_count": null,
   "id": "ef8313b5",
   "metadata": {},
   "outputs": [],
   "source": []
  }
 ],
 "metadata": {
  "kernelspec": {
   "display_name": ".venv",
   "language": "python",
   "name": "python3"
  },
  "language_info": {
   "codemirror_mode": {
    "name": "ipython",
    "version": 3
   },
   "file_extension": ".py",
   "mimetype": "text/x-python",
   "name": "python",
   "nbconvert_exporter": "python",
   "pygments_lexer": "ipython3",
   "version": "3.12.1"
  }
 },
 "nbformat": 4,
 "nbformat_minor": 5
}
